{
 "cells": [
  {
   "cell_type": "markdown",
   "metadata": {},
   "source": [
    "# Funciones e introducción al modelo OO en Python"
   ]
  },
  {
   "cell_type": "markdown",
   "metadata": {},
   "source": [
    "### Funciones\n",
    "\n",
    "Las funciones son una manera conveniente dividir el código en bloques útiles, lo que nos permite pedir nuestro código, que sea más legible, reutilizar y ahorrar algo de tiempo. "
   ]
  },
  {
   "cell_type": "code",
   "execution_count": 2,
   "metadata": {
    "collapsed": false
   },
   "outputs": [],
   "source": [
    "def hola_usuario(username, greeting):\n",
    "    print(\"Hello, %s , From My Function!, I wish you %s\" %(username, greeting))"
   ]
  },
  {
   "cell_type": "markdown",
   "metadata": {},
   "source": [
    "## Ejemplos durante la sesión"
   ]
  },
  {
   "cell_type": "code",
   "execution_count": null,
   "metadata": {
    "collapsed": true
   },
   "outputs": [],
   "source": [
    "def func(a, nombre, c, d=1, e=2, *args, f, g=None, **kwargs):\n",
    "    print(a, nombre, c, d, e, args, f, g, kwargs)\n",
    "        \n",
    "#func(1, 2, 3, f=1)\n",
    "#func(1, 2, 3, 'a', 'b', f=1)\n",
    "#func(1, 2, 3, 'a', 'b', 'x', 'y', 'z',\n",
    "#     nombre=\"Joel\", g=[10, 12, 14], f=1)\n",
    "def generica(*args, **kwargs):\n",
    "    print(\"args: \", args)\n",
    "    print(\"kwargs:\", kwargs)\n",
    "\n",
    "#generica(1, 2, 3, 4, 5, numero=1, lugar=\"Monterrey\")\n",
    "#numeros = (1, 2, 3, 4, 5)\n",
    "#palabras = {'numero': 1, 'lugar': 'monterrey'}\n",
    "#generica(*numeros, **palabras)\n",
    "\n",
    "def externo():\n",
    "    a = \"existo en interno\"\n",
    "    b = 2\n",
    "    c = 3\n",
    "    def interno(varname):\n",
    "        if varname == 'a':\n",
    "            print(a)\n",
    "        else:\n",
    "            print(\"...\")\n",
    "    return interno\n",
    "\n",
    "\n",
    "def suma_parcial(func):\n",
    "    def interno(a, b):\n",
    "        func(a + b)\n",
    "    return interno\n",
    "\n",
    "def connect_db(func):\n",
    "    def wrapper(*args, **kwargs):\n",
    "        # magicamente se inicia db\n",
    "        db = None\n",
    "        func(db, *args, **kwargs)\n",
    "## \n",
    "# Process some data\n",
    "@connect_db\n",
    "def process(db, uid, gid):\n",
    "    pass\n"
   ]
  },
  {
   "cell_type": "code",
   "execution_count": null,
   "metadata": {
    "collapsed": true
   },
   "outputs": [],
   "source": [
    "from functools import singledispatch\n",
    "\n",
    "@singledispatch\n",
    "def fun(arg, verbose=False):\n",
    "    if verbose:\n",
    "        print(\"Let me just say,\", end=\" \")\n",
    "    print(arg)\n"
   ]
  },
  {
   "cell_type": "code",
   "execution_count": null,
   "metadata": {
    "collapsed": true
   },
   "outputs": [],
   "source": [
    "fun(1, verbose=True)"
   ]
  },
  {
   "cell_type": "code",
   "execution_count": null,
   "metadata": {
    "collapsed": true
   },
   "outputs": [],
   "source": [
    "@fun.register(int)\n",
    "def _(arg, verbose=False):\n",
    "    if verbose:\n",
    "        print(\"Strength in numbers, eh?\", end=\" \")\n",
    "    print(arg)"
   ]
  },
  {
   "cell_type": "code",
   "execution_count": null,
   "metadata": {
    "collapsed": true
   },
   "outputs": [],
   "source": [
    "fun(1, verbose=True)"
   ]
  },
  {
   "cell_type": "code",
   "execution_count": null,
   "metadata": {
    "collapsed": true
   },
   "outputs": [],
   "source": [
    "fun(\"Joel\", verbose=True)"
   ]
  },
  {
   "cell_type": "markdown",
   "metadata": {},
   "source": [
    "### Clases\n",
    "- Los objetos son una encapsulación de variables y funciones en una sola entidad.\n",
    "- Los objetos toman sus variables y funciones de las clases. \n",
    "- Las clases son esencialmente una plantilla para crear sus objetos."
   ]
  },
  {
   "cell_type": "code",
   "execution_count": 10,
   "metadata": {
    "collapsed": false
   },
   "outputs": [],
   "source": [
    "class MiClase(object):\n",
    "    \"\"\"\n",
    "    Mi clase doc\n",
    "    \"\"\"\n",
    "    class_prop = \"Propiedad de clase\"\n",
    "\n",
    "    def __init__(self, nombre=None, verbose=False) :\n",
    "        \"\"\"\n",
    "        Documentacion de constructor\n",
    "        \"\"\"\n",
    "        self.data = []\n",
    "        self._private_data = []\n",
    "        self._nombre = nombre\n",
    "    \n",
    "    def __del__(self):\n",
    "        pass\n",
    "    \n",
    "    def __add__(self, a):\n",
    "        pass\n",
    "    \n",
    "    def __getitem__(self, key):\n",
    "        pass\n",
    "    \n",
    "    def function(self):\n",
    "        \"\"\"\n",
    "        Documentacion de methodo\n",
    "        \"\"\"\n",
    "        self._privada()\n",
    "        print(\"Este mensaje se imprime desde la clase\")\n",
    "    \n",
    "    def _privada(self):\n",
    "        \"\"\"\n",
    "        Documentacion de methodo\n",
    "        \"\"\"\n",
    "        print(\"Este mensaje se imprime desde la clase\")\n",
    "        \n",
    "    @staticmethod\n",
    "    def metodo_estatico():\n",
    "        print(\"Statico, no tiene acceso a 'self'\")\n",
    "    \n",
    "    @classmethod\n",
    "    def verboso(cls):\n",
    "        print(\"Metodo de clase\")\n",
    "        a = cls(verbose=False)\n",
    "        del a.data\n",
    "    \n",
    "    @property\n",
    "    def nombre(self):\n",
    "        print(\"Calling nombre\")\n",
    "        return self._nombre\n",
    "    \n",
    "    @nombre.setter\n",
    "    def nombre(self, a):\n",
    "        self._nombre = a\n",
    "        print(\"Calling setter\")\n",
    "    \n",
    "    def algo(self):\n",
    "        \"\"\"\n",
    "        doc de lo que hago\n",
    "        \"\"\"\n",
    "        raise NotImplementedError()\n"
   ]
  },
  {
   "cell_type": "code",
   "execution_count": 4,
   "metadata": {
    "collapsed": false
   },
   "outputs": [
    {
     "name": "stdout",
     "output_type": "stream",
     "text": [
      "Este mensaje se imprime desde la clase\n"
     ]
    }
   ],
   "source": [
    "mi_objeto = MiClase()\n",
    "mi_objeto.data = 12\n",
    "mi_objeto.cls_list.append(1)\n",
    "mi_objeto.function()\n",
    "mi_objeto = MiClase()\n",
    "mi_objeto.cls_list.append(1)\n"
   ]
  },
  {
   "cell_type": "code",
   "execution_count": 15,
   "metadata": {
    "collapsed": false
   },
   "outputs": [
    {
     "name": "stdout",
     "output_type": "stream",
     "text": [
      "Calling nombre\n"
     ]
    }
   ],
   "source": [
    "mi_objeto = MiClase()\n",
    "mi_objeto.nombre\n",
    "mi_objeto = None"
   ]
  },
  {
   "cell_type": "markdown",
   "metadata": {},
   "source": [
    "### Métodos\n",
    "Los métodos son funciones que pertenecen a cierto objeto"
   ]
  },
  {
   "cell_type": "code",
   "execution_count": 7,
   "metadata": {
    "collapsed": false
   },
   "outputs": [
    {
     "data": {
      "text/plain": [
       "1"
      ]
     },
     "execution_count": 7,
     "metadata": {},
     "output_type": "execute_result"
    }
   ],
   "source": [
    "mi_lista = [1,2,3,\"hola\",5]\n",
    "mi_lista.count(\"hola\")"
   ]
  },
  {
   "cell_type": "markdown",
   "metadata": {},
   "source": [
    "Los métodos pueden regresar o modificar el objeto"
   ]
  },
  {
   "cell_type": "code",
   "execution_count": 8,
   "metadata": {
    "collapsed": false
   },
   "outputs": [
    {
     "name": "stdout",
     "output_type": "stream",
     "text": [
      "[1, 2, 3, 'hola', 5, 'Nuevo']\n"
     ]
    }
   ],
   "source": [
    "mi_lista.append(\"Nuevo\")\n",
    "print(mi_lista)"
   ]
  }
 ],
 "metadata": {
  "kernelspec": {
   "display_name": "Python 3",
   "language": "python",
   "name": "python3"
  },
  "language_info": {
   "codemirror_mode": {
    "name": "ipython",
    "version": 3
   },
   "file_extension": ".py",
   "mimetype": "text/x-python",
   "name": "python",
   "nbconvert_exporter": "python",
   "pygments_lexer": "ipython3",
   "version": "3.5.1"
  }
 },
 "nbformat": 4,
 "nbformat_minor": 0
}
