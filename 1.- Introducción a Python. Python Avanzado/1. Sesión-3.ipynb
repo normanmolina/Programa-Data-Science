{
 "cells": [
  {
   "cell_type": "markdown",
   "metadata": {},
   "source": [
    "# Tercer sesión"
   ]
  },
  {
   "cell_type": "markdown",
   "metadata": {},
   "source": [
    "## Agenda\n",
    "\n",
    " 1. Excepciones\n",
    " 2. Comprehensions (list, set, dict y generador)\n",
    " 3. Generadores y corrutinas\n",
    " 4. Lambdas\n",
    " 5. Módulos\n",
    " 6. Paquetes\n",
    " 7. Distribuyendo el código\n"
   ]
  },
  {
   "cell_type": "markdown",
   "metadata": {},
   "source": [
    "## 1. Excepciones"
   ]
  },
  {
   "cell_type": "markdown",
   "metadata": {},
   "source": [
    "### Sobre el manejo de errores *[contexto]*"
   ]
  },
  {
   "cell_type": "markdown",
   "metadata": {},
   "source": [
    "Todo programa que sea propiamente escrito debe de tener una estrategia definida de manejo y prevención de errores, verificar los argumentos a sus funciones, prevenir efectos secundarios indeseados entre otra muchas otras cosas.\n",
    "\n",
    "A groso modo existen dos tipos de condiciones que pueden tener al estar pensando en como lidiamos con condiciones excepcionales, estas pueden ser **fatales** o **no-fatales** donde cada una de esos tipos de condiciones pueden ser *esperadas* o *inesperadas*.\n",
    "\n",
    "Algunas veces realmente se espera que el programa termine lo más pronto posible, como por ejemplo cuando recibe argumentos erróneos para el programa, otras veces la condición que no se considera optima para la funcionalidad deseada se puede corregir ahí mismo y es una apuesta bastante segura que existen condiciones inesperadas, las cuales muy probablemente serán fatales y terminaran la ejecución del programa ó en el caso de que sean no-fatales muy probablemente tendrán efectos secundarios indeseados y casi siempre terminan como errores difíciles de corregir o dicho de otra forma *bugs* complicados de debuggear, dependiendo de la organización y estructura del código así como la posibilidad de replicar las condiciones excepcionales.\n",
    "\n",
    "Cabe destacar que la buena selección de estructuras de datos y la organización del código representan la barrera número uno para evitarnos un montón de problemas a futuro, en el casó que se tenga en mente mantener el código que se escribe en el futuro cercanos."
   ]
  },
  {
   "cell_type": "markdown",
   "metadata": {},
   "source": [
    "### Estrategias para el manejo de errores *[contexto]*"
   ]
  },
  {
   "cell_type": "markdown",
   "metadata": {},
   "source": [
    "Desde una perspectiva simple existen dos *\"escuelas\"* del manejo de errores estás son: **look before you leap (LBYL)** / *mira antes de saltar* y **easier to ask for forgiveness than permission (EAFP)** / *más fácil pedir perdón que permiso*, en general la comunidad de python tiende a la segunda *(EAFP)* ya que el lenguaje esta diseñado para facilitar esa forma, lo cual casi siempre requiere un buen soporte al manejo de excepciones, esto no quiere decir que nunca de debe de usar *LBYL*, siempre es buena idea en casos donde se requiere especial cautela con las condiciones excepcionales, evitar tener efectos secundarios indeseados o que simplemente aporte mayor claridad al código.\n"
   ]
  },
  {
   "cell_type": "markdown",
   "metadata": {},
   "source": [
    "#### LBYL (look before you leap) *[contexto]*"
   ]
  },
  {
   "cell_type": "markdown",
   "metadata": {},
   "source": [
    "La estrategia look before you leap se basa en prevenir condiciones excepcionales esperadas, como por ejemplo:\n",
    "\n",
    "```python\n",
    "# name proviene de algun lugar misterioso\n",
    "if not isinstance(name, str):\n",
    "   name = \"S/N\"\n",
    "\n",
    "print(\"Mi nombre es \" + name)\n",
    "```"
   ]
  },
  {
   "cell_type": "markdown",
   "metadata": {},
   "source": [
    "Un caso común es el de verifica argumentos del programa como en:\n",
    "\n",
    "\n",
    "```python\n",
    "import sys\n",
    "\n",
    "num = sys.argv[1]\n",
    "\n",
    "if num.isdigit():\n",
    "   num = int(num)\n",
    "else:\n",
    "   print(\"El argumento uno solo puede tener numeros\")\n",
    "   sys.exit(-1) # termina el programa\n",
    "   \n",
    "```"
   ]
  },
  {
   "cell_type": "markdown",
   "metadata": {},
   "source": [
    "En los dos casos primero validamos que los argumentos sean los esperados luego operamos con los mismos, en el ejemplo dos, verificamos que el argumento número uno sea un número, dado que siempre se reciben como cadena, primero verificamos que la cadena contenga solo caracteres numéricos luego procedemos a convertirlo a un entero, dado que esta dentro del bloque del if garantizando que no va a ocurrir problema alguno al intentar hacer la conversión."
   ]
  },
  {
   "cell_type": "markdown",
   "metadata": {},
   "source": [
    "#### EAFP (easier to ask for forgiveness than permission) *[contexto]*"
   ]
  },
  {
   "cell_type": "markdown",
   "metadata": {},
   "source": [
    "La estrategia de EAFP se basa en aportar la mayor cantidad de código que refiere a la funcionalidad de forma continua y dejar los casos extraños en bloques aparte, en espera de la excepción en particular o un bloque que captura todos los tipos de errores, para que EAFP pueda existir es necesaria la construcción de excepciones, con bloques de try/except para hacer una analogía a los ejemplos anteriores esta sería otra forma de lidiar con los argumentos que se esperan:\n",
    "\n",
    "```python\n",
    "try:\n",
    "    print(\"Mi nombre es \" + name)\n",
    "except TypeError: # perdon!! :{ \n",
    "    print(\"Mi nombre es S/N\")\n",
    "```\n",
    "\n",
    "Siguiendo con la idea de los argumentos de un programa:\n",
    "\n",
    "```python\n",
    "try:\n",
    "    num = int(sys.argv[1])\n",
    "except ValueError: # perdon! Fue sin querer! :{ \n",
    "    print(\"El argumento uno solo puede tener numeros\")\n",
    "    sys.exit(-1) # termina el programa\n",
    "```"
   ]
  },
  {
   "cell_type": "markdown",
   "metadata": {},
   "source": [
    "### try/exept"
   ]
  },
  {
   "cell_type": "markdown",
   "metadata": {},
   "source": [
    "La construcción básica para el manejo de excepciones es el bloque try/except donde tiene la siguiente estructura:\n",
    "\n",
    "```python\n",
    "try:\n",
    "   # bloque de codigo con funcion primaria\n",
    "except TIPO_DE_EXCEPTION as ERR:\n",
    "    # bloque de codigo con funcion para recuperar la excepcion y\n",
    "    # se puede hacer uso de la variable ERR\n",
    "```"
   ]
  },
  {
   "cell_type": "code",
   "execution_count": 9,
   "metadata": {
    "collapsed": false
   },
   "outputs": [
    {
     "name": "stdout",
     "output_type": "stream",
     "text": [
      "Se capturo el error: Can't convert 'dict' object to str implicitly\n",
      "No puedes concatenar cadenas y diccionarios!\n"
     ]
    }
   ],
   "source": [
    "try:\n",
    "    print(\"PyMTY \" + {})\n",
    "except TypeError as err:\n",
    "    print(\"Se capturo el error: {}\".format(err))\n",
    "    print(\"No puedes concatenar cadenas y diccionarios!\")"
   ]
  },
  {
   "cell_type": "markdown",
   "metadata": {},
   "source": [
    "### raise"
   ]
  },
  {
   "cell_type": "markdown",
   "metadata": {},
   "source": [
    "Hasta el momento hemos visto como capturar excepciones, pero no se ha mencionado como nosotros mismo podemos levantar nuestras propias excepciones, para eso se ocupa la palabra reservada `raise` seguido de un objeto que herede de `Exception` o alguna otra excepción más especifica que se relacione, como `TypeError` o `NotImplementedError`."
   ]
  },
  {
   "cell_type": "code",
   "execution_count": 11,
   "metadata": {
    "collapsed": false
   },
   "outputs": [
    {
     "name": "stdout",
     "output_type": "stream",
     "text": [
      "Se capturo el error: Can't convert 'dict' object to str implicitly\n"
     ]
    },
    {
     "ename": "Exception",
     "evalue": "No puedes concatenar cadenas y diccionarios!",
     "output_type": "error",
     "traceback": [
      "\u001b[1;31m---------------------------------------------------------------------------\u001b[0m",
      "\u001b[1;31mTypeError\u001b[0m                                 Traceback (most recent call last)",
      "\u001b[1;32m<ipython-input-11-2af83daec754>\u001b[0m in \u001b[0;36m<module>\u001b[1;34m()\u001b[0m\n\u001b[0;32m      1\u001b[0m \u001b[1;32mtry\u001b[0m\u001b[1;33m:\u001b[0m\u001b[1;33m\u001b[0m\u001b[0m\n\u001b[1;32m----> 2\u001b[1;33m     \u001b[0mprint\u001b[0m\u001b[1;33m(\u001b[0m\u001b[1;34m\"PyMTY \"\u001b[0m \u001b[1;33m+\u001b[0m \u001b[1;33m{\u001b[0m\u001b[1;33m}\u001b[0m\u001b[1;33m)\u001b[0m\u001b[1;33m\u001b[0m\u001b[0m\n\u001b[0m\u001b[0;32m      3\u001b[0m \u001b[1;32mexcept\u001b[0m \u001b[0mTypeError\u001b[0m \u001b[1;32mas\u001b[0m \u001b[0merr\u001b[0m\u001b[1;33m:\u001b[0m\u001b[1;33m\u001b[0m\u001b[0m\n",
      "\u001b[1;31mTypeError\u001b[0m: Can't convert 'dict' object to str implicitly",
      "\nDuring handling of the above exception, another exception occurred:\n",
      "\u001b[1;31mException\u001b[0m                                 Traceback (most recent call last)",
      "\u001b[1;32m<ipython-input-11-2af83daec754>\u001b[0m in \u001b[0;36m<module>\u001b[1;34m()\u001b[0m\n\u001b[0;32m      3\u001b[0m \u001b[1;32mexcept\u001b[0m \u001b[0mTypeError\u001b[0m \u001b[1;32mas\u001b[0m \u001b[0merr\u001b[0m\u001b[1;33m:\u001b[0m\u001b[1;33m\u001b[0m\u001b[0m\n\u001b[0;32m      4\u001b[0m     \u001b[0mprint\u001b[0m\u001b[1;33m(\u001b[0m\u001b[1;34m\"Se capturo el error: {}\"\u001b[0m\u001b[1;33m.\u001b[0m\u001b[0mformat\u001b[0m\u001b[1;33m(\u001b[0m\u001b[0merr\u001b[0m\u001b[1;33m)\u001b[0m\u001b[1;33m)\u001b[0m\u001b[1;33m\u001b[0m\u001b[0m\n\u001b[1;32m----> 5\u001b[1;33m     \u001b[1;32mraise\u001b[0m \u001b[0mException\u001b[0m\u001b[1;33m(\u001b[0m\u001b[1;34m\"No puedes concatenar cadenas y diccionarios!\"\u001b[0m\u001b[1;33m)\u001b[0m\u001b[1;33m\u001b[0m\u001b[0m\n\u001b[0m",
      "\u001b[1;31mException\u001b[0m: No puedes concatenar cadenas y diccionarios!"
     ]
    }
   ],
   "source": [
    "try:\n",
    "    print(\"PyMTY \" + {})\n",
    "except TypeError as err:\n",
    "    print(\"Se capturo el error: {}\".format(err))\n",
    "    raise Exception(\"No puedes concatenar cadenas y diccionarios!\")"
   ]
  },
  {
   "cell_type": "markdown",
   "metadata": {},
   "source": [
    "En Python 3 existe una forma alternativa de programar las excepciones que permite especificar de forma explicita de donde proviene la excepción original."
   ]
  },
  {
   "cell_type": "code",
   "execution_count": 17,
   "metadata": {
    "collapsed": false
   },
   "outputs": [
    {
     "name": "stdout",
     "output_type": "stream",
     "text": [
      "Se capturo el error: Can't convert 'dict' object to str implicitly\n"
     ]
    },
    {
     "ename": "Exception",
     "evalue": "No puedes concatenar cadenas y diccionarios!",
     "output_type": "error",
     "traceback": [
      "\u001b[1;31m---------------------------------------------------------------------------\u001b[0m",
      "\u001b[1;31mTypeError\u001b[0m                                 Traceback (most recent call last)",
      "\u001b[1;32m<ipython-input-17-16a53740d42b>\u001b[0m in \u001b[0;36m<module>\u001b[1;34m()\u001b[0m\n\u001b[0;32m      1\u001b[0m \u001b[1;32mtry\u001b[0m\u001b[1;33m:\u001b[0m\u001b[1;33m\u001b[0m\u001b[0m\n\u001b[1;32m----> 2\u001b[1;33m     \u001b[0mprint\u001b[0m\u001b[1;33m(\u001b[0m\u001b[1;34m\"PyMTY \"\u001b[0m \u001b[1;33m+\u001b[0m \u001b[1;33m{\u001b[0m\u001b[1;33m}\u001b[0m\u001b[1;33m)\u001b[0m\u001b[1;33m\u001b[0m\u001b[0m\n\u001b[0m\u001b[0;32m      3\u001b[0m \u001b[1;32mexcept\u001b[0m \u001b[0mTypeError\u001b[0m \u001b[1;32mas\u001b[0m \u001b[0merr\u001b[0m\u001b[1;33m:\u001b[0m\u001b[1;33m\u001b[0m\u001b[0m\n",
      "\u001b[1;31mTypeError\u001b[0m: Can't convert 'dict' object to str implicitly",
      "\nThe above exception was the direct cause of the following exception:\n",
      "\u001b[1;31mException\u001b[0m                                 Traceback (most recent call last)",
      "\u001b[1;32m<ipython-input-17-16a53740d42b>\u001b[0m in \u001b[0;36m<module>\u001b[1;34m()\u001b[0m\n\u001b[0;32m      3\u001b[0m \u001b[1;32mexcept\u001b[0m \u001b[0mTypeError\u001b[0m \u001b[1;32mas\u001b[0m \u001b[0merr\u001b[0m\u001b[1;33m:\u001b[0m\u001b[1;33m\u001b[0m\u001b[0m\n\u001b[0;32m      4\u001b[0m     \u001b[0mprint\u001b[0m\u001b[1;33m(\u001b[0m\u001b[1;34m\"Se capturo el error: {}\"\u001b[0m\u001b[1;33m.\u001b[0m\u001b[0mformat\u001b[0m\u001b[1;33m(\u001b[0m\u001b[0merr\u001b[0m\u001b[1;33m)\u001b[0m\u001b[1;33m)\u001b[0m\u001b[1;33m\u001b[0m\u001b[0m\n\u001b[1;32m----> 5\u001b[1;33m     \u001b[1;32mraise\u001b[0m \u001b[0mException\u001b[0m\u001b[1;33m(\u001b[0m\u001b[1;34m\"No puedes concatenar cadenas y diccionarios!\"\u001b[0m\u001b[1;33m)\u001b[0m \u001b[1;32mfrom\u001b[0m \u001b[0merr\u001b[0m\u001b[1;33m\u001b[0m\u001b[0m\n\u001b[0m",
      "\u001b[1;31mException\u001b[0m: No puedes concatenar cadenas y diccionarios!"
     ]
    }
   ],
   "source": [
    "try:\n",
    "    print(\"PyMTY \" + {})\n",
    "except TypeError as err:\n",
    "    print(\"Se capturo el error: {}\".format(err))\n",
    "    raise Exception(\"No puedes concatenar cadenas y diccionarios!\") from err"
   ]
  },
  {
   "cell_type": "markdown",
   "metadata": {},
   "source": [
    "### try/except..."
   ]
  },
  {
   "cell_type": "markdown",
   "metadata": {},
   "source": [
    "El bloque `try/except` puede tener cualquier cantidad de excepts, que se evalúan de arriba hacia abajo, dejando las excepciones más precisas cercas del bloque `try` y las mas genéricas al final, por ejemplo:"
   ]
  },
  {
   "cell_type": "code",
   "execution_count": 12,
   "metadata": {
    "collapsed": false
   },
   "outputs": [
    {
     "name": "stdout",
     "output_type": "stream",
     "text": [
      "Se capturo TypeError\n"
     ]
    }
   ],
   "source": [
    "class XError(TypeError):\n",
    "    \"\"\"\n",
    "    Error especifico de X\n",
    "    \"\"\"\n",
    "    \n",
    "try:\n",
    "   raise XError()\n",
    "except TypeError:\n",
    "    print(\"Se capturo TypeError\")\n",
    "except XError:\n",
    "    print(\"Se capturo XError\")"
   ]
  },
  {
   "cell_type": "markdown",
   "metadata": {},
   "source": [
    "Imprime *\"Se capturo TypeError\"*, dado que se evalúa primero y la clase `XError` hereda de la clase `TypeError`, en cambio de esta forma:"
   ]
  },
  {
   "cell_type": "code",
   "execution_count": 14,
   "metadata": {
    "collapsed": false
   },
   "outputs": [
    {
     "name": "stdout",
     "output_type": "stream",
     "text": [
      "Se capturo XError\n"
     ]
    }
   ],
   "source": [
    "class XError(TypeError):\n",
    "    \"\"\"\n",
    "    Error especifico de X\n",
    "    \"\"\"\n",
    "try:\n",
    "   raise XError()\n",
    "except XError:\n",
    "    print(\"Se capturo XError\")\n",
    "except TypeError:\n",
    "    print(\"Se capturo TypeError\")"
   ]
  },
  {
   "cell_type": "code",
   "execution_count": 2,
   "metadata": {
    "collapsed": false
   },
   "outputs": [
    {
     "name": "stdout",
     "output_type": "stream",
     "text": [
      "Se capturo TypeError\n"
     ]
    }
   ],
   "source": [
    "class XError(TypeError):\n",
    "    \"\"\"\n",
    "    Error especifico de X\n",
    "    \"\"\"\n",
    "try:\n",
    "   raise XError()\n",
    "except NotImplementedError:\n",
    "    print(\"Not Implemented\")\n",
    "except TypeError:\n",
    "    print(\"Se capturo TypeError\")"
   ]
  },
  {
   "cell_type": "markdown",
   "metadata": {},
   "source": [
    "Imprime *\"Se capturo XError\"*"
   ]
  },
  {
   "cell_type": "markdown",
   "metadata": {},
   "source": [
    "### try/except.../else"
   ]
  },
  {
   "cell_type": "markdown",
   "metadata": {},
   "source": [
    "La siguiente forma casi completa del bloque `try/except` agrega un bloque de código que se ejecuta solamente si no sucedió ninguna excepción en el bloque `try`, éste se delimita con la palabra reservada `else`, solamente se puede tener un solo bloque else para cada bloque de excepciones, donde se requiere de por lo menos esperar una excepción con `except`."
   ]
  },
  {
   "cell_type": "code",
   "execution_count": 3,
   "metadata": {
    "collapsed": false
   },
   "outputs": [
    {
     "name": "stdout",
     "output_type": "stream",
     "text": [
      "pymty\n",
      "Todo normal...\n"
     ]
    }
   ],
   "source": [
    "try:\n",
    "   print(\"pymty\")\n",
    "except OSError as e:\n",
    "   print(\"Error en el sistema operativo!\")\n",
    "else:\n",
    "   print(\"Todo normal...\")"
   ]
  },
  {
   "cell_type": "code",
   "execution_count": 4,
   "metadata": {
    "collapsed": false
   },
   "outputs": [
    {
     "name": "stdout",
     "output_type": "stream",
     "text": [
      "pymty\n",
      "Error en el sistema operativo!\n"
     ]
    }
   ],
   "source": [
    "try:\n",
    "    print(\"pymty\")\n",
    "    raise OSError(\"test\")\n",
    "except OSError as e:\n",
    "    print(\"Error en el sistema operativo!\")\n",
    "else:\n",
    "    print(\"Todo normal...\")"
   ]
  },
  {
   "cell_type": "markdown",
   "metadata": {},
   "source": [
    "### try/except.../else/finally"
   ]
  },
  {
   "cell_type": "markdown",
   "metadata": {},
   "source": [
    "Ahora si vamos a conocer el bloque en toda plenitud con el ultimo fragmento que tiene la palabra reservada de `finally` como denominador se ejecuta siempre sin importar si ocurrió o no una excepción en el bloque de `try`, esto es aún y tomando en cuenta que dentro del bloque try se use `return` para regresar un valor dentro de una función, primero ejecuta `finally`, luego regresa de la función en caso de que se use `return`."
   ]
  },
  {
   "cell_type": "code",
   "execution_count": 6,
   "metadata": {
    "collapsed": false
   },
   "outputs": [
    {
     "name": "stdout",
     "output_type": "stream",
     "text": [
      "Con que dividiendo por cero...\n",
      "Limpiando memoria, cerrando locks y cosas asi.\n"
     ]
    }
   ],
   "source": [
    "try:\n",
    "    1 / 0\n",
    "except ZeroDivisionError:\n",
    "    print(\"Con que dividiendo por cero...\")\n",
    "except Exception:\n",
    "    print(\"Error generico\")\n",
    "else:\n",
    "    print(\"Todo muy bien\")\n",
    "finally:\n",
    "    print(\"Limpiando memoria, cerrando locks y cosas asi.\")"
   ]
  },
  {
   "cell_type": "code",
   "execution_count": 5,
   "metadata": {
    "collapsed": true
   },
   "outputs": [],
   "source": [
    "def return_what():\n",
    "    try:\n",
    "        print(\"In try body\")\n",
    "        return 1\n",
    "    finally:\n",
    "        print(\"In finally\")\n",
    "        return 2 # preferencia sobre el return dentro de try"
   ]
  },
  {
   "cell_type": "code",
   "execution_count": 6,
   "metadata": {
    "collapsed": false
   },
   "outputs": [
    {
     "name": "stdout",
     "output_type": "stream",
     "text": [
      "In try body\n",
      "In finally\n"
     ]
    },
    {
     "data": {
      "text/plain": [
       "2"
      ]
     },
     "execution_count": 6,
     "metadata": {},
     "output_type": "execute_result"
    }
   ],
   "source": [
    "return_what()"
   ]
  },
  {
   "cell_type": "code",
   "execution_count": 9,
   "metadata": {
    "collapsed": true
   },
   "outputs": [],
   "source": [
    "def return_what():\n",
    "    try:\n",
    "        print(\"In try body\")\n",
    "        return 1\n",
    "    finally:\n",
    "        print(\"In finally\")\n",
    "        # sin return en finally, usa el de try."
   ]
  },
  {
   "cell_type": "code",
   "execution_count": 8,
   "metadata": {
    "collapsed": false
   },
   "outputs": [
    {
     "name": "stdout",
     "output_type": "stream",
     "text": [
      "In try body\n",
      "In finally\n"
     ]
    },
    {
     "data": {
      "text/plain": [
       "1"
      ]
     },
     "execution_count": 8,
     "metadata": {},
     "output_type": "execute_result"
    }
   ],
   "source": [
    "return_what()"
   ]
  },
  {
   "cell_type": "markdown",
   "metadata": {},
   "source": [
    "## 2. Comprehensions"
   ]
  },
  {
   "cell_type": "markdown",
   "metadata": {},
   "source": [
    "### List comprehensions"
   ]
  },
  {
   "cell_type": "code",
   "execution_count": 21,
   "metadata": {
    "collapsed": false
   },
   "outputs": [
    {
     "name": "stdout",
     "output_type": "stream",
     "text": [
      "[1, 2, 3, 4, 5, 6, 7, 8, 9, 10]\n"
     ]
    }
   ],
   "source": [
    "del_uno_al_diez = [i for i in range(1, 11)] # <- magic happening\n",
    "print(del_uno_al_diez)"
   ]
  },
  {
   "cell_type": "code",
   "execution_count": 8,
   "metadata": {
    "collapsed": false
   },
   "outputs": [
    {
     "name": "stdout",
     "output_type": "stream",
     "text": [
      "[0.9179805589915441, 0.9413978643884156, 0.9649443359094384, 0.43684773538149757, 0.9392821519901322, 0.2793101523740499, 0.7577689714320468, 0.8891730895977987, 0.6311330592297092, 0.9283746315246989]\n"
     ]
    }
   ],
   "source": [
    "import random\n",
    "diez_random = [random.random()\n",
    "                for _ in range(10)] # <- magic happening\n",
    "print(diez_random)"
   ]
  },
  {
   "cell_type": "code",
   "execution_count": null,
   "metadata": {
    "collapsed": true
   },
   "outputs": [],
   "source": [
    "[<ACCION> for <VARIABLE_OPCIONAL> in <ITERADOR>]"
   ]
  },
  {
   "cell_type": "markdown",
   "metadata": {},
   "source": [
    "### Set comprehensions"
   ]
  },
  {
   "cell_type": "code",
   "execution_count": 22,
   "metadata": {
    "collapsed": false
   },
   "outputs": [
    {
     "name": "stdout",
     "output_type": "stream",
     "text": [
      "{1, 2, 3, 4, 5, 6, 7, 8, 9, 10}\n"
     ]
    }
   ],
   "source": [
    "del_uno_al_diez_en_set = {i for i in range(1, 11)} # <- magic happening again!\n",
    "print(del_uno_al_diez_en_set)"
   ]
  },
  {
   "cell_type": "markdown",
   "metadata": {},
   "source": [
    "### Dict comprehensions"
   ]
  },
  {
   "cell_type": "code",
   "execution_count": 24,
   "metadata": {
    "collapsed": false
   },
   "outputs": [
    {
     "name": "stdout",
     "output_type": "stream",
     "text": [
      "{'tres': 3, 'nueve': 9, 'seis': 6, 'ocho': 8, 'cinco': 5, 'siete': 7, 'uno': 1, 'dos': 2, 'diez': 10, 'cuatro': 4}\n",
      "10\n"
     ]
    }
   ],
   "source": [
    "_names = [\n",
    "    'uno', 'dos', 'tres', 'cuatro', 'cinco',\n",
    "    'seis', 'siete', 'ocho', 'nueve', 'diez'\n",
    "]\n",
    "\n",
    "del_uno_al_diez_en_dict = {\n",
    "    name: i for name, i in zip(_names, range(1, 11)) # <- magic happening again and again!\n",
    "} \n",
    "\n",
    "print(del_uno_al_diez_en_dict)\n",
    "print(del_uno_al_diez_en_dict['diez'])"
   ]
  },
  {
   "cell_type": "code",
   "execution_count": 14,
   "metadata": {
    "collapsed": false
   },
   "outputs": [
    {
     "data": {
      "text/plain": [
       "[(1, 4), (2, 5), (3, 6)]"
      ]
     },
     "execution_count": 14,
     "metadata": {},
     "output_type": "execute_result"
    }
   ],
   "source": [
    " list(zip([1, 2, 3], [4, 5, 6])) # ((1, 4), (2, 5), (3, 6)))"
   ]
  },
  {
   "cell_type": "markdown",
   "metadata": {},
   "source": [
    " ### Generator expression"
   ]
  },
  {
   "cell_type": "code",
   "execution_count": 21,
   "metadata": {
    "collapsed": false
   },
   "outputs": [
    {
     "name": "stdout",
     "output_type": "stream",
     "text": [
      "<generator object <genexpr> at 0x7fe0c807d048>\n"
     ]
    }
   ],
   "source": [
    "del_uno_al_diez_gen = (i for i in range(1, 11)) \n",
    "# ^ magic happening again and again... and again!\n",
    "print(del_uno_al_diez_gen)"
   ]
  },
  {
   "cell_type": "markdown",
   "metadata": {},
   "source": [
    "wut wut?!"
   ]
  },
  {
   "cell_type": "code",
   "execution_count": 22,
   "metadata": {
    "collapsed": false
   },
   "outputs": [
    {
     "data": {
      "text/plain": [
       "1"
      ]
     },
     "execution_count": 22,
     "metadata": {},
     "output_type": "execute_result"
    }
   ],
   "source": [
    "next(del_uno_al_diez_gen)"
   ]
  },
  {
   "cell_type": "code",
   "execution_count": 23,
   "metadata": {
    "collapsed": false
   },
   "outputs": [
    {
     "data": {
      "text/plain": [
       "2"
      ]
     },
     "execution_count": 23,
     "metadata": {},
     "output_type": "execute_result"
    }
   ],
   "source": [
    "next(del_uno_al_diez_gen)"
   ]
  },
  {
   "cell_type": "code",
   "execution_count": 24,
   "metadata": {
    "collapsed": false
   },
   "outputs": [
    {
     "name": "stdout",
     "output_type": "stream",
     "text": [
      "Num  10\n",
      "3\n",
      "Num  11\n",
      "4\n",
      "Num  12\n",
      "5\n",
      "Num  13\n",
      "6\n",
      "Num  14\n",
      "7\n",
      "Num  15\n",
      "8\n",
      "Num  16\n",
      "9\n",
      "Num  17\n",
      "10\n"
     ]
    }
   ],
   "source": [
    "for num, i in enumerate(del_uno_al_diez_gen, 10):\n",
    "    print(\"Num \", num)\n",
    "    print(i)"
   ]
  },
  {
   "cell_type": "code",
   "execution_count": 25,
   "metadata": {
    "collapsed": false
   },
   "outputs": [
    {
     "ename": "StopIteration",
     "evalue": "",
     "output_type": "error",
     "traceback": [
      "\u001b[1;31m---------------------------------------------------------------------------\u001b[0m",
      "\u001b[1;31mStopIteration\u001b[0m                             Traceback (most recent call last)",
      "\u001b[1;32m<ipython-input-25-c71012c904fa>\u001b[0m in \u001b[0;36m<module>\u001b[1;34m()\u001b[0m\n\u001b[1;32m----> 1\u001b[1;33m \u001b[0mnext\u001b[0m\u001b[1;33m(\u001b[0m\u001b[0mdel_uno_al_diez_gen\u001b[0m\u001b[1;33m)\u001b[0m \u001b[1;31m# ???\u001b[0m\u001b[1;33m\u001b[0m\u001b[0m\n\u001b[0m",
      "\u001b[1;31mStopIteration\u001b[0m: "
     ]
    }
   ],
   "source": [
    "next(del_uno_al_diez_gen) # ???"
   ]
  },
  {
   "cell_type": "markdown",
   "metadata": {},
   "source": [
    "### Aplica para todas"
   ]
  },
  {
   "cell_type": "markdown",
   "metadata": {},
   "source": [
    "**Filtro**"
   ]
  },
  {
   "cell_type": "code",
   "execution_count": 32,
   "metadata": {
    "collapsed": false
   },
   "outputs": [
    {
     "data": {
      "text/plain": [
       "[1, 3, 5, 7, 9, 11, 13, 15, 17, 19]"
      ]
     },
     "execution_count": 32,
     "metadata": {},
     "output_type": "execute_result"
    }
   ],
   "source": [
    "[i for i in range(1, 21) if i % 2]  # nones"
   ]
  },
  {
   "cell_type": "code",
   "execution_count": 33,
   "metadata": {
    "collapsed": false
   },
   "outputs": [
    {
     "data": {
      "text/plain": [
       "[2, 4, 6, 8, 10, 12, 14, 16, 18, 20]"
      ]
     },
     "execution_count": 33,
     "metadata": {},
     "output_type": "execute_result"
    }
   ],
   "source": [
    "[i for i in range(1, 21) if not i % 2]  # pares"
   ]
  },
  {
   "cell_type": "markdown",
   "metadata": {},
   "source": [
    "**Anidado de expresiones**"
   ]
  },
  {
   "cell_type": "code",
   "execution_count": 36,
   "metadata": {
    "collapsed": false
   },
   "outputs": [
    {
     "data": {
      "text/plain": [
       "[1, 3, 5, 7, 9, 11, 13, 15, 17, 19, 2, 6, 10, 14, 18, 22, 26, 30, 34, 38]"
      ]
     },
     "execution_count": 36,
     "metadata": {},
     "output_type": "execute_result"
    }
   ],
   "source": [
    "[i * x for x in range(1, 3)\n",
    "       for i in range(1, 21) if i % 2]"
   ]
  },
  {
   "cell_type": "code",
   "execution_count": 43,
   "metadata": {
    "collapsed": true
   },
   "outputs": [
    {
     "data": {
      "text/plain": [
       "['ciclo 1 => 5',\n",
       " 'ciclo 1 => 15',\n",
       " 'ciclo 1 => 25',\n",
       " 'ciclo 1 => 35',\n",
       " 'ciclo 1 => 45',\n",
       " 'ciclo 2 => 5',\n",
       " 'ciclo 2 => 15',\n",
       " 'ciclo 2 => 25',\n",
       " 'ciclo 2 => 35',\n",
       " 'ciclo 2 => 45',\n",
       " 'ciclo 3 => 5',\n",
       " 'ciclo 3 => 15',\n",
       " 'ciclo 3 => 25',\n",
       " 'ciclo 3 => 35',\n",
       " 'ciclo 3 => 45']"
      ]
     },
     "execution_count": 43,
     "metadata": {},
     "output_type": "execute_result"
    }
   ],
   "source": [
    "[ '{} => {}'.format(z, i * x) # [1 * 5, 3 * 5, 5 * 5, ...]\n",
    "   for z in ('ciclo 1', 'ciclo 2', 'ciclo 3')\n",
    "    for x in range(1, 10) if x == 5   # [5]\n",
    "       for i in range(1, 10) if i % 2] # [1, 3, 5, 7, 9]"
   ]
  },
  {
   "cell_type": "markdown",
   "metadata": {},
   "source": [
    "Lo anterior de una forma tradicional, sería:"
   ]
  },
  {
   "cell_type": "code",
   "execution_count": 47,
   "metadata": {
    "collapsed": true
   },
   "outputs": [
    {
     "data": {
      "text/plain": [
       "['ciclo 1 => 5',\n",
       " 'ciclo 1 => 15',\n",
       " 'ciclo 1 => 25',\n",
       " 'ciclo 1 => 35',\n",
       " 'ciclo 1 => 45',\n",
       " 'ciclo 2 => 5',\n",
       " 'ciclo 2 => 15',\n",
       " 'ciclo 2 => 25',\n",
       " 'ciclo 2 => 35',\n",
       " 'ciclo 2 => 45',\n",
       " 'ciclo 3 => 5',\n",
       " 'ciclo 3 => 15',\n",
       " 'ciclo 3 => 25',\n",
       " 'ciclo 3 => 35',\n",
       " 'ciclo 3 => 45']"
      ]
     },
     "execution_count": 47,
     "metadata": {},
     "output_type": "execute_result"
    }
   ],
   "source": [
    "resultado = []\n",
    "for z in ('ciclo 1', 'ciclo 2', 'ciclo 3'):\n",
    "    for x in range(1, 10):\n",
    "        if x == 5:\n",
    "            for i in range(1, 10):\n",
    "                if i % 2:\n",
    "                    resultado.append('{} => {}'.format(z, i * x))\n",
    "resultado"
   ]
  },
  {
   "cell_type": "markdown",
   "metadata": {},
   "source": [
    "**Extra, usando el *operador terniario* **"
   ]
  },
  {
   "cell_type": "code",
   "execution_count": 48,
   "metadata": {
    "collapsed": false
   },
   "outputs": [
    {
     "data": {
      "text/plain": [
       "['ax', 'by', 'cx', 'dy']"
      ]
     },
     "execution_count": 48,
     "metadata": {},
     "output_type": "execute_result"
    }
   ],
   "source": [
    "[i if i.endswith('x') else i + 'y'\n",
    " for i in ('ax', 'b', 'cx', 'd')]"
   ]
  },
  {
   "cell_type": "markdown",
   "metadata": {},
   "source": [
    "Dicho todo lo anterior...\n",
    "\n",
    "   **<font color=\"red\">¡¡NO ABUSEN DE LOS COMPREHENSIONS!!</font>**"
   ]
  },
  {
   "cell_type": "markdown",
   "metadata": {},
   "source": [
    "## 3. Generadores y corrutinas"
   ]
  },
  {
   "cell_type": "code",
   "execution_count": 37,
   "metadata": {
    "collapsed": true
   },
   "outputs": [],
   "source": [
    "import random\n",
    "\n",
    "## generador \n",
    "def own_range(from_, to):\n",
    "    \"\"\"\n",
    "    Generator that half-reimplements the lazy range in Python 3.\n",
    "    \"\"\"\n",
    "    if to < from_:\n",
    "        raise Exception(\"`to` cannot be smaller than `from_`\")\n",
    "    pos = from_\n",
    "    while pos <= to:\n",
    "        yield pos # congelada\n",
    "        pos += 1 # desconge\n",
    "        \n",
    "        \n",
    "def conversation(name):\n",
    "    \"\"\"\n",
    "    Chatty corrutine\n",
    "    \"\"\"\n",
    "    phrases = [\"Interesante.\", \"Ya veo.\", \"¿Y que más?\"]\n",
    "    response = yield \"Hola {}!\".format(name)\n",
    "    while True:\n",
    "        if response in ('adios', 'bye'):\n",
    "            break\n",
    "        else:\n",
    "            response = yield phrases[random.randint(0, 2)]\n"
   ]
  },
  {
   "cell_type": "code",
   "execution_count": 38,
   "metadata": {
    "collapsed": false
   },
   "outputs": [
    {
     "data": {
      "text/plain": [
       "<function __main__.own_range>"
      ]
     },
     "execution_count": 38,
     "metadata": {},
     "output_type": "execute_result"
    }
   ],
   "source": [
    "own_range"
   ]
  },
  {
   "cell_type": "code",
   "execution_count": 28,
   "metadata": {
    "collapsed": false
   },
   "outputs": [
    {
     "data": {
      "text/plain": [
       "<generator object own_range at 0x7fe0c80aee60>"
      ]
     },
     "execution_count": 28,
     "metadata": {},
     "output_type": "execute_result"
    }
   ],
   "source": [
    "range_ = own_range(1, 10)\n",
    "range_"
   ]
  },
  {
   "cell_type": "code",
   "execution_count": 29,
   "metadata": {
    "collapsed": false
   },
   "outputs": [
    {
     "data": {
      "text/plain": [
       "1"
      ]
     },
     "execution_count": 29,
     "metadata": {},
     "output_type": "execute_result"
    }
   ],
   "source": [
    "next(range_)"
   ]
  },
  {
   "cell_type": "code",
   "execution_count": 30,
   "metadata": {
    "collapsed": false
   },
   "outputs": [
    {
     "data": {
      "text/plain": [
       "2"
      ]
     },
     "execution_count": 30,
     "metadata": {},
     "output_type": "execute_result"
    }
   ],
   "source": [
    "next(range_)"
   ]
  },
  {
   "cell_type": "code",
   "execution_count": 31,
   "metadata": {
    "collapsed": false
   },
   "outputs": [
    {
     "name": "stdout",
     "output_type": "stream",
     "text": [
      "3\n",
      "4\n",
      "5\n",
      "6\n",
      "7\n",
      "8\n",
      "9\n",
      "10\n"
     ]
    }
   ],
   "source": [
    "for i in range_:\n",
    "    print(i)"
   ]
  },
  {
   "cell_type": "code",
   "execution_count": 32,
   "metadata": {
    "collapsed": false
   },
   "outputs": [
    {
     "data": {
      "text/plain": [
       "<generator object own_range at 0x7fe0c80aea98>"
      ]
     },
     "execution_count": 32,
     "metadata": {},
     "output_type": "execute_result"
    }
   ],
   "source": [
    "this_is_wrong = own_range(10, 1)\n",
    "this_is_wrong"
   ]
  },
  {
   "cell_type": "code",
   "execution_count": 33,
   "metadata": {
    "collapsed": false
   },
   "outputs": [
    {
     "ename": "Exception",
     "evalue": "`to` cannot be smaller than `from_`",
     "output_type": "error",
     "traceback": [
      "\u001b[1;31m---------------------------------------------------------------------------\u001b[0m",
      "\u001b[1;31mException\u001b[0m                                 Traceback (most recent call last)",
      "\u001b[1;32m<ipython-input-33-7d29d0a6325d>\u001b[0m in \u001b[0;36m<module>\u001b[1;34m()\u001b[0m\n\u001b[1;32m----> 1\u001b[1;33m \u001b[0mnext\u001b[0m\u001b[1;33m(\u001b[0m\u001b[0mthis_is_wrong\u001b[0m\u001b[1;33m)\u001b[0m\u001b[1;33m\u001b[0m\u001b[0m\n\u001b[0m",
      "\u001b[1;32m<ipython-input-26-9c32e325bae0>\u001b[0m in \u001b[0;36mown_range\u001b[1;34m(from_, to)\u001b[0m\n\u001b[0;32m      7\u001b[0m     \"\"\"\n\u001b[0;32m      8\u001b[0m     \u001b[1;32mif\u001b[0m \u001b[0mto\u001b[0m \u001b[1;33m<\u001b[0m \u001b[0mfrom_\u001b[0m\u001b[1;33m:\u001b[0m\u001b[1;33m\u001b[0m\u001b[0m\n\u001b[1;32m----> 9\u001b[1;33m         \u001b[1;32mraise\u001b[0m \u001b[0mException\u001b[0m\u001b[1;33m(\u001b[0m\u001b[1;34m\"`to` cannot be smaller than `from_`\"\u001b[0m\u001b[1;33m)\u001b[0m\u001b[1;33m\u001b[0m\u001b[0m\n\u001b[0m\u001b[0;32m     10\u001b[0m     \u001b[0mpos\u001b[0m \u001b[1;33m=\u001b[0m \u001b[0mfrom_\u001b[0m\u001b[1;33m\u001b[0m\u001b[0m\n\u001b[0;32m     11\u001b[0m     \u001b[1;32mwhile\u001b[0m \u001b[0mpos\u001b[0m \u001b[1;33m<=\u001b[0m \u001b[0mto\u001b[0m\u001b[1;33m:\u001b[0m\u001b[1;33m\u001b[0m\u001b[0m\n",
      "\u001b[1;31mException\u001b[0m: `to` cannot be smaller than `from_`"
     ]
    }
   ],
   "source": [
    "next(this_is_wrong)"
   ]
  },
  {
   "cell_type": "code",
   "execution_count": 39,
   "metadata": {
    "collapsed": false
   },
   "outputs": [
    {
     "data": {
      "text/plain": [
       "<generator object conversation at 0x7fe0c807dc50>"
      ]
     },
     "execution_count": 39,
     "metadata": {},
     "output_type": "execute_result"
    }
   ],
   "source": [
    "conv = conversation('Joel')\n",
    "conv"
   ]
  },
  {
   "cell_type": "code",
   "execution_count": 40,
   "metadata": {
    "collapsed": false
   },
   "outputs": [
    {
     "data": {
      "text/plain": [
       "'Hola Joel!'"
      ]
     },
     "execution_count": 40,
     "metadata": {},
     "output_type": "execute_result"
    }
   ],
   "source": [
    "conv.send(None) # se inicializa con None o se llama a next"
   ]
  },
  {
   "cell_type": "code",
   "execution_count": 41,
   "metadata": {
    "collapsed": false
   },
   "outputs": [
    {
     "data": {
      "text/plain": [
       "'Ya veo.'"
      ]
     },
     "execution_count": 41,
     "metadata": {},
     "output_type": "execute_result"
    }
   ],
   "source": [
    "conv.send(\"Ayer llovio!\")"
   ]
  },
  {
   "cell_type": "code",
   "execution_count": 61,
   "metadata": {
    "collapsed": false
   },
   "outputs": [
    {
     "data": {
      "text/plain": [
       "'Interesante.'"
      ]
     },
     "execution_count": 61,
     "metadata": {},
     "output_type": "execute_result"
    }
   ],
   "source": [
    "conv.send('Que interesante no?')"
   ]
  },
  {
   "cell_type": "code",
   "execution_count": 62,
   "metadata": {
    "collapsed": false
   },
   "outputs": [
    {
     "data": {
      "text/plain": [
       "'¿Y que más?'"
      ]
     },
     "execution_count": 62,
     "metadata": {},
     "output_type": "execute_result"
    }
   ],
   "source": [
    "conv.send(\"Pues no mucho...\")"
   ]
  },
  {
   "cell_type": "code",
   "execution_count": 63,
   "metadata": {
    "collapsed": false
   },
   "outputs": [
    {
     "data": {
      "text/plain": [
       "'¿Y que más?'"
      ]
     },
     "execution_count": 63,
     "metadata": {},
     "output_type": "execute_result"
    }
   ],
   "source": [
    "conv.send('WTF?')"
   ]
  },
  {
   "cell_type": "code",
   "execution_count": 64,
   "metadata": {
    "collapsed": false
   },
   "outputs": [
    {
     "ename": "StopIteration",
     "evalue": "",
     "output_type": "error",
     "traceback": [
      "\u001b[1;31m---------------------------------------------------------------------------\u001b[0m",
      "\u001b[1;31mStopIteration\u001b[0m                             Traceback (most recent call last)",
      "\u001b[1;32m<ipython-input-64-e6166d11e7db>\u001b[0m in \u001b[0;36m<module>\u001b[1;34m()\u001b[0m\n\u001b[1;32m----> 1\u001b[1;33m \u001b[0mconv\u001b[0m\u001b[1;33m.\u001b[0m\u001b[0msend\u001b[0m\u001b[1;33m(\u001b[0m\u001b[1;34m\"bye\"\u001b[0m\u001b[1;33m)\u001b[0m \u001b[1;31m# tambien funcionaria conv.close()\u001b[0m\u001b[1;33m\u001b[0m\u001b[0m\n\u001b[0m",
      "\u001b[1;31mStopIteration\u001b[0m: "
     ]
    }
   ],
   "source": [
    "conv.send(\"bye\") # tambien funcionaria conv.close()"
   ]
  },
  {
   "cell_type": "markdown",
   "metadata": {},
   "source": [
    "Python 3 adicionalmente soporta `yield from` para iterar sub-generadores. \n",
    "\n",
    "Para más información sobre corrutinas: http://www.dabeaz.com/coroutines/Coroutines.pdf\n",
    "\n",
    "Mejor aún el nuevo módulo `asyncio`: https://docs.python.org/3/library/asyncio.html\n"
   ]
  },
  {
   "cell_type": "markdown",
   "metadata": {},
   "source": [
    "## 4. Lambdas"
   ]
  },
  {
   "cell_type": "markdown",
   "metadata": {},
   "source": [
    "Las *lambdas* es otro de los recursos usados en la programación funcional.\n",
    "\n",
    "Usualmente se les conoce como **funciones anónimas**.\n",
    "\n",
    "La implementación en Python, esta diseñada para no fomentar el uso extensivo de estás, principalmente por que es complicado de *debuggear* el código que abusa de las lambdas.\n",
    "\n",
    "Una lambda tiene todas las caracteristicas de las funciones que ya vimos (incluyendo el asunto del scope y argumentos), pero tiene una *pequeña* limitante, **solo soporta una expresion en el cuerpo de la función**.\n",
    "\n",
    "Se definen por medio de la palabra reservada **lambda**."
   ]
  },
  {
   "cell_type": "code",
   "execution_count": 66,
   "metadata": {
    "collapsed": false
   },
   "outputs": [
    {
     "data": {
      "text/plain": [
       "<function __main__.<lambda>>"
      ]
     },
     "execution_count": 66,
     "metadata": {},
     "output_type": "execute_result"
    }
   ],
   "source": [
    "lambda a, b: a + b"
   ]
  },
  {
   "cell_type": "code",
   "execution_count": 67,
   "metadata": {
    "collapsed": false
   },
   "outputs": [
    {
     "data": {
      "text/plain": [
       "30"
      ]
     },
     "execution_count": 67,
     "metadata": {},
     "output_type": "execute_result"
    }
   ],
   "source": [
    "(lambda a, b: a + b)(10, 20)"
   ]
  },
  {
   "cell_type": "code",
   "execution_count": 68,
   "metadata": {
    "collapsed": true
   },
   "outputs": [],
   "source": [
    "variable_comun = lambda a, b: a + b"
   ]
  },
  {
   "cell_type": "code",
   "execution_count": 69,
   "metadata": {
    "collapsed": false
   },
   "outputs": [
    {
     "data": {
      "text/plain": [
       "30"
      ]
     },
     "execution_count": 69,
     "metadata": {},
     "output_type": "execute_result"
    }
   ],
   "source": [
    "variable_comun(10, 20)"
   ]
  },
  {
   "cell_type": "code",
   "execution_count": 71,
   "metadata": {
    "collapsed": false
   },
   "outputs": [
    {
     "data": {
      "text/plain": [
       "<function __main__.<lambda>>"
      ]
     },
     "execution_count": 71,
     "metadata": {},
     "output_type": "execute_result"
    }
   ],
   "source": [
    "variable_comun"
   ]
  },
  {
   "cell_type": "markdown",
   "metadata": {},
   "source": [
    "**¡¡No tiene nombre!! ^^^^** "
   ]
  },
  {
   "cell_type": "code",
   "execution_count": 73,
   "metadata": {
    "collapsed": true
   },
   "outputs": [],
   "source": [
    "# no hagan esto en código que les importe\n",
    "factorizador = lambda func, factor=10: \\\n",
    "                  lambda *args, **kwargs: \\\n",
    "                       func(*[a * factor for a in args], **kwargs) \\\n",
    "                               if all((isinstance(a, int) for a in args)) else \\\n",
    "                                func(*args, **kwargs)"
   ]
  },
  {
   "cell_type": "code",
   "execution_count": 74,
   "metadata": {
    "collapsed": false
   },
   "outputs": [
    {
     "data": {
      "text/plain": [
       "<function __main__.<lambda>>"
      ]
     },
     "execution_count": 74,
     "metadata": {},
     "output_type": "execute_result"
    }
   ],
   "source": [
    "factorizador"
   ]
  },
  {
   "cell_type": "code",
   "execution_count": 75,
   "metadata": {
    "collapsed": false
   },
   "outputs": [
    {
     "name": "stdout",
     "output_type": "stream",
     "text": [
      "Mis args son:  ()\n",
      "Mis kwargs son:  {}\n"
     ]
    }
   ],
   "source": [
    "@factorizador\n",
    "def printer(*args, **kwargs):\n",
    "    print(\"Mis args son: \", args)\n",
    "    print(\"Mis kwargs son: \", kwargs)\n",
    "printer()"
   ]
  },
  {
   "cell_type": "code",
   "execution_count": 76,
   "metadata": {
    "collapsed": false
   },
   "outputs": [
    {
     "name": "stdout",
     "output_type": "stream",
     "text": [
      "Mis args son:  (10, 20, 30, 40, 50)\n",
      "Mis kwargs son:  {}\n"
     ]
    }
   ],
   "source": [
    "printer(1, 2, 3, 4, 5) # todos son enteros"
   ]
  },
  {
   "cell_type": "code",
   "execution_count": 77,
   "metadata": {
    "collapsed": false
   },
   "outputs": [
    {
     "name": "stdout",
     "output_type": "stream",
     "text": [
      "Mis args son:  (1, 2, 3, 4, 'Joel')\n",
      "Mis kwargs son:  {}\n"
     ]
    }
   ],
   "source": [
    "printer(1, 2, 3, 4, 'Joel') # una cadena!!"
   ]
  },
  {
   "cell_type": "markdown",
   "metadata": {},
   "source": [
    "## 5. Módulos"
   ]
  },
  {
   "cell_type": "markdown",
   "metadata": {},
   "source": [
    "Los módulos son una abstracción del lenguaje que sirve para organizar el código, permiten distribuir el código en distintos archivos y es un bloque fundamental para distribuir el código para terceras partes.\n",
    "\n",
    "Principalmente son **necesarios** por que es muy dificil recordar todas esas lineas de código en la cabeza.\n",
    "\n",
    "La representación tradicional de un módulo de python en el sistema de archivo es en los archivos que tienen extension `.py`. Es decir, todo script en python en un módulo en si.\n",
    "\n",
    "Cabe destacar, que esa representación no es la única. Tambien pueden esta en forma de directorios (paquetes), en forma de zip o en *shared objects* para las extensiones nativas (como numpy).\n",
    "\n",
    "Python es un lenguaje *con baterias incluidas*, es decir, incluye mucha funcionalidad para una gran cantida de tareas, para más información revisen la librerías estándar de python: https://docs.python.org/3/library/"
   ]
  },
  {
   "cell_type": "markdown",
   "metadata": {},
   "source": [
    "### Importando con `import`"
   ]
  },
  {
   "cell_type": "code",
   "execution_count": 127,
   "metadata": {
    "collapsed": false
   },
   "outputs": [],
   "source": [
    "import collections\n",
    "\n",
    "import webbrowser as chrome\n",
    "\n",
    "from xml import etree\n",
    "\n",
    "from math import ceil, floor, pi\n",
    "\n",
    "#from math.universe_x.a.b.c.d import suma\n",
    "#from math.universe_x  as suma_d\n",
    "\n",
    "from array import array as list_a\n",
    "\n",
    "from enum import * "
   ]
  },
  {
   "cell_type": "markdown",
   "metadata": {},
   "source": [
    "La sentencía `import` no tiene una restricción sobre donde puede ejecutarse, más se considera buen gusto el realizar los **imports al inicio del archivo.**"
   ]
  },
  {
   "cell_type": "code",
   "execution_count": 78,
   "metadata": {
    "collapsed": true
   },
   "outputs": [],
   "source": [
    "def get_pi():\n",
    "    from math import pi\n",
    "    return pi"
   ]
  },
  {
   "cell_type": "code",
   "execution_count": 79,
   "metadata": {
    "collapsed": false
   },
   "outputs": [
    {
     "data": {
      "text/plain": [
       "3.141592653589793"
      ]
     },
     "execution_count": 79,
     "metadata": {},
     "output_type": "execute_result"
    }
   ],
   "source": [
    "get_pi()"
   ]
  },
  {
   "cell_type": "markdown",
   "metadata": {},
   "source": [
    "## 6. Paquetes"
   ]
  },
  {
   "cell_type": "markdown",
   "metadata": {},
   "source": [
    "El termino paquetes se refiere a la distribución de código de Python en una estructura especifica en directorios , relativos al directorio de trabajo, la variable de entorno `PYTHONPATH` y finalmente a la lista donde se termina representando todos estos lugares dentro del módulo `sys`."
   ]
  },
  {
   "cell_type": "code",
   "execution_count": 81,
   "metadata": {
    "collapsed": false
   },
   "outputs": [
    {
     "data": {
      "text/plain": [
       "['',\n",
       " '/home/joe/anaconda3/envs/databootcamp/lib/python35.zip',\n",
       " '/home/joe/anaconda3/envs/databootcamp/lib/python3.5',\n",
       " '/home/joe/anaconda3/envs/databootcamp/lib/python3.5/plat-linux',\n",
       " '/home/joe/anaconda3/envs/databootcamp/lib/python3.5/lib-dynload',\n",
       " '/home/joe/anaconda3/envs/databootcamp/lib/python3.5/site-packages/Sphinx-1.3.5-py3.5.egg',\n",
       " '/home/joe/anaconda3/envs/databootcamp/lib/python3.5/site-packages/setuptools-20.3-py3.5.egg',\n",
       " '/home/joe/anaconda3/envs/databootcamp/lib/python3.5/site-packages',\n",
       " '/home/joe/anaconda3/envs/databootcamp/lib/python3.5/site-packages/IPython/extensions',\n",
       " '/home/joe/.ipython']"
      ]
     },
     "execution_count": 81,
     "metadata": {},
     "output_type": "execute_result"
    }
   ],
   "source": [
    "import sys\n",
    "\n",
    "sys.path"
   ]
  },
  {
   "cell_type": "code",
   "execution_count": 85,
   "metadata": {
    "collapsed": false
   },
   "outputs": [
    {
     "data": {
      "text/plain": [
       "True"
      ]
     },
     "execution_count": 85,
     "metadata": {},
     "output_type": "execute_result"
    }
   ],
   "source": [
    "import math\n",
    "import sys\n",
    "sys.modules['math'] is math"
   ]
  },
  {
   "cell_type": "code",
   "execution_count": 86,
   "metadata": {
    "collapsed": false
   },
   "outputs": [
    {
     "name": "stdout",
     "output_type": "stream",
     "text": [
      "total 184\r\n",
      "-rw-rw-r-- 1 joe joe  21731 jun 11 03:58 1. Sesión-1.ipynb\r\n",
      "-rw-rw-r-- 1 joe joe   8186 jun 11 03:58 1. Sesión-2.ipynb\r\n",
      "-rw-rw-r-- 1 joe joe 133510 jun 11 13:01 1. Sesión-3.ipynb\r\n",
      "drwxrwxr-x 3 joe joe     62 jun  8 17:35 mipaquete\r\n",
      "drwxrwxr-x 5 joe joe     45 jun 11 03:50 nssample\r\n",
      "-rw-rw-r-- 1 joe joe  18409 jun 11 03:59 Workspace-sesion-1.ipynb\r\n"
     ]
    }
   ],
   "source": [
    "!ls -l"
   ]
  },
  {
   "cell_type": "code",
   "execution_count": 87,
   "metadata": {
    "collapsed": false
   },
   "outputs": [
    {
     "name": "stdout",
     "output_type": "stream",
     "text": [
      "mipaquete\r\n",
      "├── __init__.py\r\n",
      "├── __pycache__\r\n",
      "│   ├── __init__.cpython-35.pyc\r\n",
      "│   └── saludos.cpython-35.pyc\r\n",
      "└── saludos.py\r\n",
      "\r\n",
      "1 directory, 4 files\r\n"
     ]
    }
   ],
   "source": [
    "!tree mipaquete"
   ]
  },
  {
   "cell_type": "code",
   "execution_count": 102,
   "metadata": {
    "collapsed": false
   },
   "outputs": [
    {
     "name": "stdout",
     "output_type": "stream",
     "text": [
      "Hola alumnos\n"
     ]
    }
   ],
   "source": [
    "#import mipaquete\n",
    "from mipaquete import saludos\n",
    "saludos.hola()"
   ]
  },
  {
   "cell_type": "code",
   "execution_count": 137,
   "metadata": {
    "collapsed": false
   },
   "outputs": [
    {
     "name": "stdout",
     "output_type": "stream",
     "text": [
      "nssample\r\n",
      "├── part1\r\n",
      "│   └── frutas\r\n",
      "│       └── manzanas.py\r\n",
      "├── part2\r\n",
      "│   └── frutas\r\n",
      "│       └── naranjas.py\r\n",
      "└── part3\r\n",
      "    └── frutas\r\n",
      "        └── uvas.py\r\n",
      "\r\n",
      "6 directories, 3 files\r\n"
     ]
    }
   ],
   "source": [
    "!tree nssample"
   ]
  },
  {
   "cell_type": "code",
   "execution_count": 103,
   "metadata": {
    "collapsed": true
   },
   "outputs": [],
   "source": [
    "sys.path.append('nssample/part1')"
   ]
  },
  {
   "cell_type": "code",
   "execution_count": 105,
   "metadata": {
    "collapsed": true
   },
   "outputs": [],
   "source": [
    "import frutas"
   ]
  },
  {
   "cell_type": "code",
   "execution_count": 106,
   "metadata": {
    "collapsed": false
   },
   "outputs": [
    {
     "data": {
      "text/plain": [
       "<module 'frutas' (namespace)>"
      ]
     },
     "execution_count": 106,
     "metadata": {},
     "output_type": "execute_result"
    }
   ],
   "source": [
    "frutas"
   ]
  },
  {
   "cell_type": "code",
   "execution_count": 107,
   "metadata": {
    "collapsed": false
   },
   "outputs": [
    {
     "data": {
      "text/plain": [
       "<module 'frutas.manzanas' from 'nssample/part1/frutas/manzanas.py'>"
      ]
     },
     "execution_count": 107,
     "metadata": {},
     "output_type": "execute_result"
    }
   ],
   "source": [
    "import frutas.manzanas\n",
    "frutas.manzanas"
   ]
  },
  {
   "cell_type": "code",
   "execution_count": 108,
   "metadata": {
    "collapsed": false
   },
   "outputs": [
    {
     "ename": "ImportError",
     "evalue": "No module named 'frutas.naranjas'",
     "output_type": "error",
     "traceback": [
      "\u001b[1;31m---------------------------------------------------------------------------\u001b[0m",
      "\u001b[1;31mImportError\u001b[0m                               Traceback (most recent call last)",
      "\u001b[1;32m<ipython-input-108-6f064972c5cc>\u001b[0m in \u001b[0;36m<module>\u001b[1;34m()\u001b[0m\n\u001b[1;32m----> 1\u001b[1;33m \u001b[1;32mimport\u001b[0m \u001b[0mfrutas\u001b[0m\u001b[1;33m.\u001b[0m\u001b[0mnaranjas\u001b[0m \u001b[1;31m# esto va a fallar...\u001b[0m\u001b[1;33m\u001b[0m\u001b[0m\n\u001b[0m",
      "\u001b[1;31mImportError\u001b[0m: No module named 'frutas.naranjas'"
     ]
    }
   ],
   "source": [
    "import frutas.naranjas # esto va a fallar..."
   ]
  },
  {
   "cell_type": "code",
   "execution_count": 109,
   "metadata": {
    "collapsed": false
   },
   "outputs": [
    {
     "data": {
      "text/plain": [
       "<module 'frutas.naranjas' from 'nssample/part2/frutas/naranjas.py'>"
      ]
     },
     "execution_count": 109,
     "metadata": {},
     "output_type": "execute_result"
    }
   ],
   "source": [
    "sys.path.append('nssample/part2')\n",
    "import frutas.naranjas # pero ya no\n",
    "frutas.naranjas"
   ]
  },
  {
   "cell_type": "code",
   "execution_count": 110,
   "metadata": {
    "collapsed": false
   },
   "outputs": [
    {
     "name": "stdout",
     "output_type": "stream",
     "text": [
      "Naranjas!\n",
      "Manzanas\n"
     ]
    }
   ],
   "source": [
    "print(frutas.naranjas.get())\n",
    "print(frutas.manzanas.get())"
   ]
  },
  {
   "cell_type": "code",
   "execution_count": 111,
   "metadata": {
    "collapsed": true
   },
   "outputs": [],
   "source": [
    "# lo mismo para las uvas\n",
    "\n",
    "sys.path.append('nssample/part3')\n",
    "from frutas import uvas"
   ]
  },
  {
   "cell_type": "code",
   "execution_count": 112,
   "metadata": {
    "collapsed": false
   },
   "outputs": [
    {
     "data": {
      "text/plain": [
       "<module 'frutas.uvas' from 'nssample/part3/frutas/uvas.py'>"
      ]
     },
     "execution_count": 112,
     "metadata": {},
     "output_type": "execute_result"
    }
   ],
   "source": [
    "uvas"
   ]
  },
  {
   "cell_type": "code",
   "execution_count": 113,
   "metadata": {
    "collapsed": false
   },
   "outputs": [
    {
     "data": {
      "text/plain": [
       "'Uvas!'"
      ]
     },
     "execution_count": 113,
     "metadata": {},
     "output_type": "execute_result"
    }
   ],
   "source": [
    "uvas.get()"
   ]
  },
  {
   "cell_type": "markdown",
   "metadata": {},
   "source": [
    "<font color=\"red\">¡NOTA IMPORTANTE!</font>\n",
    "\n",
    "evitar el uso de:\n",
    "\n",
    "    from module import *"
   ]
  },
  {
   "cell_type": "markdown",
   "metadata": {},
   "source": [
    "## 7. Distribuyendo el código"
   ]
  },
  {
   "cell_type": "markdown",
   "metadata": {},
   "source": [
    "Distutils (parte de la librería estándar): https://docs.python.org/3/library/distutils.html\n",
    "\n",
    "Setuptools (módulo que es un super-set de distuils): https://setuptools.readthedocs.io/en/latest/\n",
    "\n",
    "Herramientas más utilizada para instalar paquetes en python: https://pypi.python.org/pypi/pip\n",
    "\n",
    "Una de las herramientas más populares (por el momento) para crear el \"boilerplate\" de proyectos comunes: https://pypi.python.org/pypi/cookiecutter/1.4.0"
   ]
  },
  {
   "cell_type": "markdown",
   "metadata": {},
   "source": [
    "### Ejemplo de  `setup.py` "
   ]
  },
  {
   "cell_type": "markdown",
   "metadata": {},
   "source": [
    "```python\n",
    "# chardet's setup.py\n",
    "from distutils.core import setup\n",
    "\n",
    "setup(\n",
    "    name = \"chardet\",\n",
    "    packages = [\"chardet\"],\n",
    "    version = \"1.0.2\",\n",
    "    description = \"Universal encoding detector\",\n",
    "    author = \"Mark Pilgrim\",\n",
    "    author_email = \"mark@diveintomark.org\",\n",
    "    url = \"http://chardet.feedparser.org/\",\n",
    "    download_url = \"http://chardet.feedparser.org/download/python3-chardet-1.0.1.tgz\",\n",
    "    keywords = [\"encoding\", \"i18n\", \"xml\"],\n",
    "    classifiers = [\n",
    "        \"Programming Language :: Python\",\n",
    "        \"Programming Language :: Python :: 3\",\n",
    "        \"Development Status :: 4 - Beta\",\n",
    "        \"Environment :: Other Environment\",\n",
    "        \"Intended Audience :: Developers\",\n",
    "        \"License :: OSI Approved :: GNU Library or Lesser General Public License (LGPL)\",\n",
    "        \"Operating System :: OS Independent\",\n",
    "        \"Topic :: Software Development :: Libraries :: Python Modules\",\n",
    "        \"Topic :: Text Processing :: Linguistic\",\n",
    "        ],\n",
    "    long_description = \"\"\"\\\n",
    "Universal character encoding detector\n",
    "-------------------------------------\n",
    "\n",
    "Detects\n",
    " - ASCII, UTF-8, UTF-16 (2 variants), UTF-32 (4 variants)\n",
    " - Big5, GB2312, EUC-TW, HZ-GB-2312, ISO-2022-CN (Traditional and Simplified Chinese)\n",
    " - EUC-JP, SHIFT_JIS, ISO-2022-JP (Japanese)\n",
    " - EUC-KR, ISO-2022-KR (Korean)\n",
    " - KOI8-R, MacCyrillic, IBM855, IBM866, ISO-8859-5, windows-1251 (Cyrillic)\n",
    " - ISO-8859-2, windows-1250 (Hungarian)\n",
    " - ISO-8859-5, windows-1251 (Bulgarian)\n",
    " - windows-1252 (English)\n",
    " - ISO-8859-7, windows-1253 (Greek)\n",
    " - ISO-8859-8, windows-1255 (Visual and Logical Hebrew)\n",
    " - TIS-620 (Thai)\n",
    "\n",
    "This version requires Python 3 or later; a Python 2 version is available separately.\n",
    "\"\"\"\n",
    ")\n",
    "\n",
    "```"
   ]
  }
 ],
 "metadata": {
  "kernelspec": {
   "display_name": "Python 3",
   "language": "python",
   "name": "python3"
  },
  "language_info": {
   "codemirror_mode": {
    "name": "ipython",
    "version": 3
   },
   "file_extension": ".py",
   "mimetype": "text/x-python",
   "name": "python",
   "nbconvert_exporter": "python",
   "pygments_lexer": "ipython3",
   "version": "3.5.1"
  }
 },
 "nbformat": 4,
 "nbformat_minor": 0
}
