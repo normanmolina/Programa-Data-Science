{
 "cells": [
  {
   "cell_type": "markdown",
   "metadata": {},
   "source": [
    "### Los datos son baratos pero el conocimiento es más difícil de conseguir"
   ]
  },
  {
   "cell_type": "markdown",
   "metadata": {},
   "source": [
    "## Estadística Descriptiva\n",
    "\n",
    "Empezar a entender mis datos."
   ]
  },
  {
   "cell_type": "markdown",
   "metadata": {},
   "source": [
    "### Media\n",
    "\n",
    "Si se tiene una muestra de $n$ valores: $x_i$ \n",
    "La media $\\mu$ es la suma de los valores dividido por el número de valores\n",
    "\n",
    "$$ \\mu = \\frac{1}{n} \\sum_{i}^{n} x_i $$"
   ]
  },
  {
   "cell_type": "code",
   "execution_count": 1,
   "metadata": {
    "collapsed": false
   },
   "outputs": [
    {
     "data": {
      "text/plain": [
       "29.69911764705882"
      ]
     },
     "execution_count": 1,
     "metadata": {},
     "output_type": "execute_result"
    }
   ],
   "source": [
    "import pandas as pd\n",
    "import numpy as np\n",
    "\n",
    "data = pd.read_csv(\"train.csv\")\n",
    "media_edad = np.mean(data['Age'])\n",
    "media_edad"
   ]
  },
  {
   "cell_type": "markdown",
   "metadata": {},
   "source": [
    "La media se encarga de describir la tendencia central de nuestros datos.\n",
    "¡Importante!, esta media $\\mu$ se usa para describir a una población completa."
   ]
  },
  {
   "cell_type": "markdown",
   "metadata": {},
   "source": [
    "### Varianza\n",
    "\n",
    "Otro valor estadístico que nos ayuda a entender nuestros datos es la Varianza. A diferencia de la media que describe la tendencia de en donde se centran nuestros datos, la varianza describe que tan lejos se encuentran los datos de la media.\n",
    "\n",
    "$$ \\sigma^2 = \\frac{1}{n} \\sum_{i}^{n} (x_i - \\mu)^2 $$"
   ]
  },
  {
   "cell_type": "code",
   "execution_count": 2,
   "metadata": {
    "collapsed": false
   },
   "outputs": [
    {
     "data": {
      "text/plain": [
       "210.7235797536662"
      ]
     },
     "execution_count": 2,
     "metadata": {},
     "output_type": "execute_result"
    }
   ],
   "source": [
    "varianza_edad = np.var(data['Age'])\n",
    "varianza_edad"
   ]
  },
  {
   "cell_type": "markdown",
   "metadata": {},
   "source": [
    "¿Años al cuadrado?\n",
    "La varianza es difícil de interpretar debido a las unidades.\n",
    "\n",
    "Por suerte la desviación estándar es un estadístico más significativo.\n",
    "\n",
    "### Desviación estándar\n",
    "\n",
    "$$ \\sigma =  \\sqrt{\\sigma}  $$"
   ]
  },
  {
   "cell_type": "code",
   "execution_count": 3,
   "metadata": {
    "collapsed": false
   },
   "outputs": [
    {
     "data": {
      "text/plain": [
       "14.516321150817317"
      ]
     },
     "execution_count": 3,
     "metadata": {},
     "output_type": "execute_result"
    }
   ],
   "source": [
    "desviacion_edad = np.std(data['Age'])\n",
    "desviacion_edad"
   ]
  },
  {
   "cell_type": "markdown",
   "metadata": {
    "collapsed": true
   },
   "source": [
    "¡Importante!, estas formulas para $\\sigma^2$ y $\\sigma$ se usan para describir a una población completa.\n",
    "\n",
    "Si lidiamos con una muestra de N valores se usan estimadores, $\\bar{x}$ y $S^2$\n",
    "\n",
    "$$ \\bar{x} = \\frac{1}{N} \\sum_{i}^{N} x_i $$\n",
    "\n",
    "$$ S^2 = \\frac{1}{N-1} \\sum_{i}^{N} (x_i - \\bar{x})^2 $$"
   ]
  },
  {
   "cell_type": "markdown",
   "metadata": {},
   "source": [
    "## Distribuciones\n",
    "\n",
    "La media, la varianza y la desviación estándar son estadísticos concisos, pero también peligrosos, ya que nublan la información que nos proporcionan los datos.\n",
    "\n",
    "Un apoyo para entenderlos mejor es ver la distribución de los datos.\n",
    "\n",
    "La representación más común de una distribución es un histograma, que describe frecuencia con la que aparece cada valor."
   ]
  },
  {
   "cell_type": "code",
   "execution_count": 4,
   "metadata": {
    "collapsed": false
   },
   "outputs": [
    {
     "data": {
      "text/plain": [
       "<matplotlib.text.Text at 0x382be8e48>"
      ]
     },
     "execution_count": 4,
     "metadata": {},
     "output_type": "execute_result"
    },
    {
     "data": {
      "image/png": "[encoded data removed]",
      "text/plain": [
       "<matplotlib.figure.Figure at 0x38228bc18>"
      ]
     },
     "metadata": {},
     "output_type": "display_data"
    }
   ],
   "source": [
    "%matplotlib inline\n",
    "import matplotlib.pyplot as plt\n",
    "\n",
    "edades = data[data.Age.notnull()]['Age']\n",
    "edades.hist()\n",
    "plt.xlabel('Edad', fontsize=18)\n",
    "plt.ylabel('Frecuencia', fontsize=16)"
   ]
  },
  {
   "cell_type": "code",
   "execution_count": 5,
   "metadata": {
    "collapsed": false
   },
   "outputs": [
    {
     "data": {
      "text/plain": [
       "88"
      ]
     },
     "execution_count": 5,
     "metadata": {},
     "output_type": "execute_result"
    }
   ],
   "source": [
    "len(edades.unique())"
   ]
  },
  {
   "cell_type": "code",
   "execution_count": 6,
   "metadata": {
    "collapsed": false
   },
   "outputs": [
    {
     "data": {
      "text/plain": [
       "<matplotlib.text.Text at 0x3836f0518>"
      ]
     },
     "execution_count": 6,
     "metadata": {},
     "output_type": "execute_result"
    },
    {
     "data": {
      "image/png": "[encoded data removed]",
      "text/plain": [
       "<matplotlib.figure.Figure at 0x38228ba90>"
      ]
     },
     "metadata": {},
     "output_type": "display_data"
    }
   ],
   "source": [
    "edades = data[data.Age.notnull()]['Age']\n",
    "edades.hist(bins=88)\n",
    "plt.xlabel('Edad', fontsize=18)\n",
    "plt.ylabel('Frecuencia', fontsize=16)"
   ]
  },
  {
   "cell_type": "markdown",
   "metadata": {},
   "source": [
    "Los histogramas son útiles porque podemos revisar las siguientes características rápidamente:\n",
    "\n",
    "- Moda: El valor más común o que más se repite en una distribución se llama moda.\n",
    "\n",
    "- Forma: Alrededor de la moda podemos ver que la distribución es asimétrica.\n",
    "\n",
    "- Los valores atípicos. (outliers)"
   ]
  },
  {
   "cell_type": "markdown",
   "metadata": {},
   "source": [
    "### Función de probabilidad\n",
    "\n",
    "Si queremos transformar las frecuencias a una función de probabilidad debemos dividir la serie entre el número de elementos"
   ]
  },
  {
   "cell_type": "code",
   "execution_count": 7,
   "metadata": {
    "collapsed": false
   },
   "outputs": [
    {
     "data": {
      "text/plain": [
       "<matplotlib.text.Text at 0x38372f208>"
      ]
     },
     "execution_count": 7,
     "metadata": {},
     "output_type": "execute_result"
    },
    {
     "data": {
      "image/png": "[encoded data removed]",
      "text/plain": [
       "<matplotlib.figure.Figure at 0x38228b860>"
      ]
     },
     "metadata": {},
     "output_type": "display_data"
    }
   ],
   "source": [
    "edades.hist(bins=88, normed=True)\n",
    "plt.xlabel('Edad', fontsize=18)\n",
    "plt.ylabel('Probabilidad', fontsize=16)"
   ]
  },
  {
   "cell_type": "markdown",
   "metadata": {},
   "source": [
    "$$ P(X = x) = f(x) $$"
   ]
  },
  {
   "cell_type": "markdown",
   "metadata": {},
   "source": [
    "La función de probabilidad funciona bien si el número de valores es pequeño.\n",
    "\n",
    "Pero a medida que el número de valores aumenta, la probabilidad asociada a cada valor se hace más pequeño.\n",
    "\n",
    "Una alternativa es usar la función de distribución acumulada."
   ]
  },
  {
   "cell_type": "code",
   "execution_count": 8,
   "metadata": {
    "collapsed": false
   },
   "outputs": [
    {
     "data": {
      "text/plain": [
       "count    714.000000\n",
       "mean      29.699118\n",
       "std       14.526497\n",
       "min        0.420000\n",
       "25%       20.125000\n",
       "50%       28.000000\n",
       "75%       38.000000\n",
       "max       80.000000\n",
       "Name: Age, dtype: float64"
      ]
     },
     "execution_count": 8,
     "metadata": {},
     "output_type": "execute_result"
    }
   ],
   "source": [
    "edades.describe()"
   ]
  },
  {
   "cell_type": "markdown",
   "metadata": {},
   "source": [
    "### Función de distribución acumulada"
   ]
  },
  {
   "cell_type": "code",
   "execution_count": 9,
   "metadata": {
    "collapsed": false
   },
   "outputs": [
    {
     "data": {
      "text/plain": [
       "<matplotlib.axes._subplots.AxesSubplot at 0x3838f9cf8>"
      ]
     },
     "execution_count": 9,
     "metadata": {},
     "output_type": "execute_result"
    },
    {
     "data": {
      "image/png": "[encoded data removed]",
      "text/plain": [
       "<matplotlib.figure.Figure at 0x38228b6a0>"
      ]
     },
     "metadata": {},
     "output_type": "display_data"
    }
   ],
   "source": [
    "edades.hist(cumulative=True, bins=88, normed=True)"
   ]
  },
  {
   "cell_type": "markdown",
   "metadata": {},
   "source": [
    "$$ P(X \\leq x) = f(x) $$"
   ]
  },
  {
   "cell_type": "markdown",
   "metadata": {
    "collapsed": true
   },
   "source": [
    "### Distribuciones continuas\n",
    "\n",
    "Cuando tenemos variables aleatorias continuas\n",
    "\n",
    "La distribución normal (Gaussiana), es una de las distribuciones de probabilidad que con más frecuencia aparece aproximada en fenómenos reales."
   ]
  },
  {
   "cell_type": "markdown",
   "metadata": {},
   "source": [
    "$$ P(x, \\sigma, \\mu) = \\frac{1}{\\sigma\\sqrt{2 \\pi}}e^{-(x -\\mu)^2/2\\sigma^2}$$"
   ]
  },
  {
   "cell_type": "code",
   "execution_count": 10,
   "metadata": {
    "collapsed": false
   },
   "outputs": [
    {
     "data": {
      "text/plain": [
       "(array([ 0.00397687,  0.00132562,  0.00132562,  0.00265125,  0.00662812,\n",
       "         0.00265125,  0.00265125,  0.01855872,  0.01855872,  0.02651246,\n",
       "         0.03314058,  0.05302493,  0.08351426,  0.08483988,  0.1431673 ,\n",
       "         0.1259342 ,  0.18558724,  0.19884348,  0.2571709 ,  0.27307837,\n",
       "         0.31417269,  0.37250011,  0.41492005,  0.38177947,  0.42022255,\n",
       "         0.44938626,  0.3261033 ,  0.38443072,  0.33670829,  0.32080081,\n",
       "         0.2916371 ,  0.2346353 ,  0.17498226,  0.14051606,  0.15774916,\n",
       "         0.10604985,  0.08616551,  0.05832742,  0.04109432,  0.02916371,\n",
       "         0.01988435,  0.01988435,  0.00397687,  0.00795374,  0.00530249,\n",
       "         0.00265125,  0.00132562,  0.00132562,  0.        ,  0.00132562]),\n",
       " array([-3.73494616, -3.58407372, -3.43320129, -3.28232885, -3.13145641,\n",
       "        -2.98058397, -2.82971153, -2.6788391 , -2.52796666, -2.37709422,\n",
       "        -2.22622178, -2.07534934, -1.92447691, -1.77360447, -1.62273203,\n",
       "        -1.47185959, -1.32098715, -1.17011472, -1.01924228, -0.86836984,\n",
       "        -0.7174974 , -0.56662496, -0.41575253, -0.26488009, -0.11400765,\n",
       "         0.03686479,  0.18773722,  0.33860966,  0.4894821 ,  0.64035454,\n",
       "         0.79122698,  0.94209941,  1.09297185,  1.24384429,  1.39471673,\n",
       "         1.54558917,  1.6964616 ,  1.84733404,  1.99820648,  2.14907892,\n",
       "         2.29995136,  2.45082379,  2.60169623,  2.75256867,  2.90344111,\n",
       "         3.05431355,  3.20518598,  3.35605842,  3.50693086,  3.6578033 ,\n",
       "         3.80867574]),\n",
       " <a list of 50 Patch objects>)"
      ]
     },
     "execution_count": 10,
     "metadata": {},
     "output_type": "execute_result"
    },
    {
     "data": {
      "image/png": "[encoded data removed]",
      "text/plain": [
       "<matplotlib.figure.Figure at 0x383a7ba90>"
      ]
     },
     "metadata": {},
     "output_type": "display_data"
    }
   ],
   "source": [
    "import numpy as np\n",
    "x = np.random.randn(5000)\n",
    "\n",
    "# Make a normed histogram. It'll be multiplied by 100 later.\n",
    "plt.hist(x, bins=50, normed=True)"
   ]
  },
  {
   "cell_type": "markdown",
   "metadata": {},
   "source": [
    "<img src=\"https://upload.wikimedia.org/wikipedia/commons/thumb/8/8c/Standard_deviation_diagram.svg/2000px-Standard_deviation_diagram.svg.png\">"
   ]
  },
  {
   "cell_type": "markdown",
   "metadata": {},
   "source": [
    "### ¿Por qué usar distribuciones continuas?\n",
    "\n",
    "Como todos los modelos, las distribuciones continuas son abstracciones, lo que significa que pueden simplificar y deshacerse de los detalles que se consideran irrelevantes (Errores de medición, outliers).\n",
    "\n",
    "Además son una forma de comprimir los datos. Ya que si logramos ajustar un modelo a un conjunto de datos, un pequeño conjunto de parámetros puede resumir una gran cantidad de datos."
   ]
  },
  {
   "cell_type": "markdown",
   "metadata": {},
   "source": [
    "### ¿Por qué es tan importante la distribución Normal?\n",
    "\n",
    "El teorema de límite central establece que la media de la muestra $\\bar{X}$ sigue una distribución normal (para $n$ grandes)\n",
    "con media $\\mu$ y desviación estándar $\\frac{\\sigma}{\\sqrt(n)}$\n",
    "\n",
    "El teorema del límite central explica, porque aparece con tanta frecuencia la distribución normal en el mundo natural.\n",
    "\n",
    "La mayoría de las características de los animales y otras formas de vida se ven afectadas por un gran número de variables genéticas y ambientales cuyo efecto es aditivo.\n",
    "\n",
    "Las características que medimos son la suma de un gran número de pequeños efectos, por lo que su distribución tiende a ser normal."
   ]
  },
  {
   "cell_type": "code",
   "execution_count": 35,
   "metadata": {
    "collapsed": false
   },
   "outputs": [
    {
     "data": {
      "text/plain": [
       "<matplotlib.axes._subplots.AxesSubplot at 0x3835d38d0>"
      ]
     },
     "execution_count": 35,
     "metadata": {},
     "output_type": "execute_result"
    },
    {
     "data": {
      "image/png": "[encoded data removed]",
      "text/plain": [
       "<matplotlib.figure.Figure at 0x384ecd0f0>"
      ]
     },
     "metadata": {},
     "output_type": "display_data"
    }
   ],
   "source": [
    "#Prueba para el Teorema de Limite Central usando 50\n",
    "media_muestra = [] #Iniciamos una lista\n",
    "\n",
    "for x in range(0, 50):\n",
    "    media_muestra.append(np.mean(edades.sample(n=300))) \n",
    "\n",
    "media_muestra = pd.Series(media_muestra)\n",
    "media_muestra.hist(bins=50)"
   ]
  },
  {
   "cell_type": "code",
   "execution_count": 37,
   "metadata": {
    "collapsed": false
   },
   "outputs": [
    {
     "data": {
      "text/plain": [
       "<matplotlib.axes._subplots.AxesSubplot at 0x385067198>"
      ]
     },
     "execution_count": 37,
     "metadata": {},
     "output_type": "execute_result"
    },
    {
     "data": {
      "image/png": "[encoded data removed]",
      "text/plain": [
       "<matplotlib.figure.Figure at 0x3850c75f8>"
      ]
     },
     "metadata": {},
     "output_type": "display_data"
    }
   ],
   "source": [
    "#Prueba para el Teorema de Limite Central usando 500\n",
    "media_muestra = []\n",
    "\n",
    "for x in range(0, 500):\n",
    "    media_muestra.append(np.mean(edades.sample(n=300)))\n",
    "\n",
    "media_muestra = pd.Series(media_muestra)\n",
    "media_muestra.hist(bins = 50)"
   ]
  },
  {
   "cell_type": "code",
   "execution_count": 38,
   "metadata": {
    "collapsed": false
   },
   "outputs": [
    {
     "data": {
      "text/plain": [
       "<matplotlib.axes._subplots.AxesSubplot at 0x38511eac8>"
      ]
     },
     "execution_count": 38,
     "metadata": {},
     "output_type": "execute_result"
    },
    {
     "data": {
      "image/png": "[encoded data removed]",
      "text/plain": [
       "<matplotlib.figure.Figure at 0x384f55fd0>"
      ]
     },
     "metadata": {},
     "output_type": "display_data"
    }
   ],
   "source": [
    "#Prueba para el Teorema de Limite Central usando 5000\n",
    "media_muestra = []\n",
    "\n",
    "for x in range(0, 5000):\n",
    "    media_muestra.append(np.mean(edades.sample(n=300)))\n",
    "\n",
    "media_muestra = pd.Series(media_muestra)\n",
    "media_muestra.hist(bins = 50)"
   ]
  },
  {
   "cell_type": "markdown",
   "metadata": {},
   "source": [
    "### Probabilidad\n",
    "\n",
    "Anteriormente mencionamos que la probabilidad es la frecuencia expresada como una fracción tamaño de muestra.\n",
    "\n",
    "Esa es una definición de probabilidad, pero no es la única y de hecho, el significado de probabilidad es un tema controversial.\n",
    "\n",
    "Existe un consenso general de que la probabilidad es un valor real entre 0 y 1. Este valor pretende dar una medida cuantitativa que corresponde a la noción de que algunas cosas son más probables que otras.\n",
    "\n",
    "$$ P(E) \\epsilon [0,1] $$"
   ]
  },
  {
   "cell_type": "markdown",
   "metadata": {},
   "source": [
    "### Reglas de probabilidad (Recordando a Kolmogorov)\n",
    "\n",
    "- La probabilidad de que ocurra un evento es un valor entre 0 y 1. Para todo evento existe una probabilidad\n",
    "$$ 0 \\leq P(E) \\leq 1 $$\n",
    "- La probabilidad de que nada ocurra es 0\n",
    "$$ P(\\emptyset) = 0 $$\n",
    "- La probabilidad de que algo ocurra es 1\n",
    "$$ P(\\Omega) = 1 $$\n",
    "- La probabilidad de algo es 1 menos la probabilidad de lo contrario"
   ]
  },
  {
   "cell_type": "markdown",
   "metadata": {},
   "source": [
    "<img src=\"conditional_risk.png\">"
   ]
  },
  {
   "cell_type": "markdown",
   "metadata": {},
   "source": [
    "### Probabilidad condicional\n",
    "\n",
    "$$ P(A | B) = \\frac{P(A \\cap B)}{P(B)} $$\n",
    "\n",
    "Si A y B son eventos independientes entonces:\n",
    "\n",
    "$$ P(A | B) = \\frac{P(A) P(B)}{P(B)}  = P(A) $$"
   ]
  },
  {
   "cell_type": "markdown",
   "metadata": {},
   "source": [
    "##### Monty Hall\n",
    "\n",
    "https://www.youtube.com/watch?v=mhlc7peGlGg"
   ]
  },
  {
   "cell_type": "markdown",
   "metadata": {},
   "source": [
    "### Regla de Bayes\n",
    "\n",
    "El teorema de Bayes es a menudo interpretado como una declaración acerca de cómo la evidencia, E, afecta la probabilidad de una hipótesis, H:\n",
    "\n",
    "$$P(H | E) = P(H) \\frac{P(E|H)}{P(E)}$$\n",
    "\n",
    "En palabras, esta ecuación dice que la probabilidad de H después de haber visto E es el producto de $P(H)$, que es la probabilidad de que H antes de ver la evidencia E, y la relación de $P(E|H)$, la probabilidad de ver la evidencia suponiendo que H es verdadera, y $P(E)$, la probabilidad de ver la evidencia bajo cualquier circunstancia.\n",
    "\n",
    "Ejemplo: Filtro de Spam\n",
    "\n",
    "$$ P(S|W) = \\frac{P(W|S) \\cdot P(S)}{P(W|S) \\cdot P(S) + P(W|H) \\cdot P(H)} $$\n",
    "\n",
    "donde:\n",
    "\n",
    "- $P(S|W)$ Es la probabilidad de que nuestro mensaje sea SPAM, sabiendo que encontramos la palabra \"Dinero\"\n",
    "- $P(S)$ Es la probabilidad de que cualquier mensaje sea SPAM\n",
    "- $P(W|S)$ La probabilidad de que nuestra palabra aparezca en mensajes de SPAM\n",
    "- $P(H)$ La probabilidad de que nuestro mensaje sea HAM\n",
    "- $P(W|H)$ La probabilidad de que la nuestra palabra aparezca en HAM\n"
   ]
  }
 ],
 "metadata": {
  "kernelspec": {
   "display_name": "Python 3",
   "language": "python",
   "name": "python3"
  },
  "language_info": {
   "codemirror_mode": {
    "name": "ipython",
    "version": 3
   },
   "file_extension": ".py",
   "mimetype": "text/x-python",
   "name": "python",
   "nbconvert_exporter": "python",
   "pygments_lexer": "ipython3",
   "version": "3.5.1"
  }
 },
 "nbformat": 4,
 "nbformat_minor": 0
}