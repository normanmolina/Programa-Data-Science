{
 "cells": [
  {
   "cell_type": "markdown",
   "metadata": {},
   "source": [
    "<img src=\"https://www.kaggle.com/static/images/site-logo.png\" />"
   ]
  },
  {
   "cell_type": "markdown",
   "metadata": {},
   "source": [
    "¡Ahora que llevan un par de semanas y ya son expertos en Python, estaremos trabajando los sábados (y en casa) tratando de ganar el reto de Kaggle!"
   ]
  },
  {
   "cell_type": "markdown",
   "metadata": {},
   "source": [
    "Kaggle es una plataforma donde se llevan a cabo competencias de modelado y análisis predictivo en donde compañías proponen un problema y equipos de investigadores, científicos de datos y estadistas de todas partes del mundo compiten para llegar a producir los mejores modelos."
   ]
  },
  {
   "cell_type": "markdown",
   "metadata": {},
   "source": [
    "Esta semana se lanzó el reto de Bimbo (¡Sí, la del pan!)"
   ]
  },
  {
   "cell_type": "markdown",
   "metadata": {},
   "source": [
    "<a href=\"https://www.kaggle.com/c/grupo-bimbo-inventory-demand\"><img src=\"https://kaggle2.blob.core.windows.net/competitions/kaggle/5260/logos/front_page.png\"></a>"
   ]
  },
  {
   "cell_type": "markdown",
   "metadata": {},
   "source": [
    "https://www.kaggle.com/c/grupo-bimbo-inventory-demand"
   ]
  },
  {
   "cell_type": "markdown",
   "metadata": {},
   "source": [
    "El problema es sencillo, se quieren maximizar las ventas y minimizar la cantidad de producto que se debe regresar a los almacenes.\n",
    "\n",
    "> \"Planning a celebration is a balancing act of preparing just enough food to go around without being stuck eating the same leftovers for the next week. The key is anticipating how many guests will come. Grupo Bimbo must weigh similar considerations as it strives to meet daily consumer demand for fresh bakery products on the shelves of over 1 million stores along its 45,000 routes across Mexico.\"\n",
    "\n",
    "¡Actualmente los calculos los debe hacer el empleado! \n",
    "\n",
    "En esta competencia se busca un modelo que pueda predecir correctamente la demanda de los diferentes puntos de venta en base a los datos históricos de ventas. Disminuyendo la cantidad de productos que deben ser regresados al almacen, pero sin sacrificar el suministro de productos Bimbo de manera que siempre encuentres cualquiera de sus productos en tu tienda mas cercana."
   ]
  },
  {
   "cell_type": "markdown",
   "metadata": {},
   "source": [
    "Lo primero que deben hacer es registrarse en la página de Kaggle:\n",
    "    https://www.kaggle.com/account/register"
   ]
  },
  {
   "cell_type": "markdown",
   "metadata": {},
   "source": [
    "Una vez que se registren deben de ir al reto Bimbo: https://www.kaggle.com/c/grupo-bimbo-inventory-demand"
   ]
  },
  {
   "cell_type": "markdown",
   "metadata": {},
   "source": [
    "Si buscan en el menú \"Data\" encontrar todo lo necesario para empezar a trabajar.\n"
   ]
  },
  {
   "cell_type": "markdown",
   "metadata": {},
   "source": [
    "Ahora que sabemos cargar datos en nuestra Jupyter Notebook, durante el resto de la sesión nos dedicaremos a bajar, cargar, y empezar a explorar visualmente nuestos datos."
   ]
  },
  {
   "cell_type": "markdown",
   "metadata": {},
   "source": [
    "Dentro de datos podemos ver que nuestro Repo cuenta con los siguientes archivos:\n",
    "\n",
    "- sample_submission.csv: .zip (14.91 mb)\n",
    "- cliente_tabla.csv:\t.zip (5.88 mb)\n",
    "- producto_tabla.csv:\t.zip (31.51 kb)\n",
    "- train.csv:\t.zip (372.67 mb)\n",
    "- test.csv:\t.zip (85.80 mb)\n",
    "- town_state.csv:\t.zip (6.35 kb)"
   ]
  },
  {
   "cell_type": "markdown",
   "metadata": {},
   "source": [
    "Toma un momento para leerlas y explorarlas."
   ]
  },
  {
   "cell_type": "markdown",
   "metadata": {},
   "source": [
    "### File descriptions\n",
    "- train.csv — the training set\n",
    "- test.csv — the test set\n",
    "- sample_submission.csv — a sample submission file in the correct format\n",
    "- cliente_tabla.csv — client names (can be joined with train/test on Cliente_ID)\n",
    "- producto_tabla.csv — product names (can be joined with train/test on Producto_ID)\n",
    "- town_state.csv — town and state (can be joined with train/test on Agencia_ID)"
   ]
  },
  {
   "cell_type": "markdown",
   "metadata": {},
   "source": [
    "### Data fields\n",
    "- Semana — Week number (From Thursday to Wednesday)\n",
    "- Agencia_ID — Sales Depot ID\n",
    "- Canal_ID — Sales Channel ID\n",
    "- Ruta_SAK — Route ID (Several routes = Sales Depot)\n",
    "- Cliente_ID — Client ID\n",
    "- NombreCliente — Client name\n",
    "- Producto_ID — Product ID\n",
    "- NombreProducto — Product Name\n",
    "- Venta_uni_hoy — Sales unit this week (integer)\n",
    "- Venta_hoy — Sales this week (unit: pesos)\n",
    "- Dev_uni_proxima — Returns unit next week (integer)\n",
    "- Dev_proxima — Returns next week (unit: pesos)\n",
    "- Demanda_uni_equil — Adjusted Demand (integer) (This is the target you will predict)"
   ]
  },
  {
   "cell_type": "markdown",
   "metadata": {},
   "source": [
    "## Objetivos de la sesión:\n",
    "\n",
    "- Para esta sesión, descarga los datos, cárgalos en tu notebook y empieza a explorarlos (son un poco pesados, así que de preferencia escojan a alguien que los descargue y los comparta usando USB)\n",
    "- Explorar el entorno de Kaggle, puedes revisar otras competencias anteriores, explora algunos otros dataset, y sobre todo explora todas las pestañas del reto Bimbo (sin duda encontrarás cosas de mucha ayuda)"
   ]
  },
  {
   "cell_type": "markdown",
   "metadata": {},
   "source": [
    "*A casi lo olvidaba, el gran premio para el ganador del reto, es una pequeña cantidad de:*\n",
    "    \n",
    "<h1 style=\"color:green;\">¡$12,000.00 USD!</div>"
   ]
  },
  {
   "cell_type": "markdown",
   "metadata": {},
   "source": [
    "A como está el peso... $225,937.641 Mexican pesos"
   ]
  },
  {
   "cell_type": "markdown",
   "metadata": {},
   "source": [
    "Y no solo eso, el segundo y tercer lugar también reciben dinero, (¡del cuarto al décimo lugar reciben muchísimo stree cred!)"
   ]
  },
  {
   "cell_type": "markdown",
   "metadata": {},
   "source": [
    "¡Happy Hacking!"
   ]
  }
 ],
 "metadata": {
  "kernelspec": {
   "display_name": "Python 3",
   "language": "python",
   "name": "python3"
  },
  "language_info": {
   "codemirror_mode": {
    "name": "ipython",
    "version": 3
   },
   "file_extension": ".py",
   "mimetype": "text/x-python",
   "name": "python",
   "nbconvert_exporter": "python",
   "pygments_lexer": "ipython3",
   "version": "3.5.1"
  }
 },
 "nbformat": 4,
 "nbformat_minor": 0
}
