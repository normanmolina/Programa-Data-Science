{
 "cells": [
  {
   "cell_type": "code",
   "execution_count": null,
   "metadata": {
    "collapsed": true
   },
   "outputs": [],
   "source": []
  },
  {
   "cell_type": "code",
   "execution_count": 77,
   "metadata": {
    "collapsed": true
   },
   "outputs": [],
   "source": [
    "from bs4 import BeautifulSoup\n",
    "import requests\n",
    "import psycopg2\n",
    "import re\n",
    "import pandas"
   ]
  },
  {
   "cell_type": "markdown",
   "metadata": {},
   "source": [
    "## Jerarquía de elementos HTML"
   ]
  },
  {
   "cell_type": "markdown",
   "metadata": {},
   "source": [
    "<img src=\"img/html.png\"/>"
   ]
  },
  {
   "cell_type": "markdown",
   "metadata": {},
   "source": [
    "## DOM (Document Object Mode)\n",
    "\n",
    "<img src=\"img/dom-tree.png\" />"
   ]
  },
  {
   "cell_type": "markdown",
   "metadata": {},
   "source": [
    "### Obteniendo nuestro primer documento web"
   ]
  },
  {
   "cell_type": "code",
   "execution_count": 51,
   "metadata": {
    "collapsed": true
   },
   "outputs": [],
   "source": [
    "URL = 'http://nostarch.com'\n",
    "URL = BeautifulSoup(requests.get(URL).text, \"lxml\")"
   ]
  },
  {
   "cell_type": "markdown",
   "metadata": {},
   "source": [
    "#### BeautifulSoup nos otorga una estructura de datos para manipular el objeto:"
   ]
  },
  {
   "cell_type": "code",
   "execution_count": 53,
   "metadata": {
    "collapsed": false
   },
   "outputs": [
    {
     "data": {
      "text/plain": [
       "(<title>No Starch Press</title>, 'title', 'No Starch Press')"
      ]
     },
     "execution_count": 53,
     "metadata": {},
     "output_type": "execute_result"
    }
   ],
   "source": [
    "URL.title, URL.title.name, URL.title.string"
   ]
  },
  {
   "cell_type": "code",
   "execution_count": 54,
   "metadata": {
    "collapsed": false
   },
   "outputs": [
    {
     "data": {
      "text/plain": [
       "'head'"
      ]
     },
     "execution_count": 54,
     "metadata": {},
     "output_type": "execute_result"
    }
   ],
   "source": [
    "URL.title.parent.name"
   ]
  },
  {
   "cell_type": "code",
   "execution_count": 55,
   "metadata": {
    "collapsed": false
   },
   "outputs": [
    {
     "data": {
      "text/plain": [
       "<p><a href=\"mg_regressionanalysis.htm\">The Manga Guide to Regression Analysis</a> teaches you effective ways to analyze data and make predictions.</p>"
      ]
     },
     "execution_count": 55,
     "metadata": {},
     "output_type": "execute_result"
    }
   ],
   "source": [
    "# HTML: <p>\n",
    "URL.p"
   ]
  },
  {
   "cell_type": "code",
   "execution_count": 62,
   "metadata": {
    "collapsed": false
   },
   "outputs": [
    {
     "data": {
      "text/plain": [
       "(<b>New!</b>,\n",
       " <a href=\"/\" title=\"Home\"><img alt=\"Home\" src=\"/sites/default/files/wabi_logo.png\"/></a>)"
      ]
     },
     "execution_count": 62,
     "metadata": {},
     "output_type": "execute_result"
    }
   ],
   "source": [
    "URL.body.b, URL.a"
   ]
  },
  {
   "cell_type": "markdown",
   "metadata": {},
   "source": [
    "## Ejercicio:\n",
    "\n",
    "Crear una función que reciba una URL y regrese el título (title)"
   ]
  },
  {
   "cell_type": "code",
   "execution_count": null,
   "metadata": {
    "collapsed": true
   },
   "outputs": [],
   "source": [
    "# Ejercicio\n",
    "\n",
    "\n",
    "\n",
    "# Ejercicio"
   ]
  },
  {
   "cell_type": "code",
   "execution_count": null,
   "metadata": {
    "collapsed": false
   },
   "outputs": [],
   "source": [
    "# Buscar todas las etiquetas\n",
    "\n",
    "URL.find_all('p')"
   ]
  },
  {
   "cell_type": "code",
   "execution_count": null,
   "metadata": {
    "collapsed": false
   },
   "outputs": [],
   "source": [
    "# Buscar todas las etiquetas\n",
    "\n",
    "URL.find_all('a')"
   ]
  },
  {
   "cell_type": "code",
   "execution_count": 95,
   "metadata": {
    "collapsed": false
   },
   "outputs": [],
   "source": [
    "# Seleccion por clase\n",
    "\n",
    "URL.find_all('div', class_='product-body')\n",
    "\n",
    "lista = URL.find_all('div', class_='product-body')"
   ]
  },
  {
   "cell_type": "markdown",
   "metadata": {},
   "source": [
    "Comprobar los resultados:"
   ]
  },
  {
   "cell_type": "code",
   "execution_count": 99,
   "metadata": {
    "collapsed": false
   },
   "outputs": [
    {
     "data": {
      "text/plain": [
       "('The Manga Guide to Regression Analysis', 'mg_regressionanalysis.htm')"
      ]
     },
     "execution_count": 99,
     "metadata": {},
     "output_type": "execute_result"
    }
   ],
   "source": [
    "lista[0].a.get_text(), lista[0].a[\"href\"]"
   ]
  },
  {
   "cell_type": "markdown",
   "metadata": {},
   "source": [
    "Una vez que sabemos como se compone la lista de resultados, podemos exportarla a un DataFrame:"
   ]
  },
  {
   "cell_type": "code",
   "execution_count": 115,
   "metadata": {
    "collapsed": false
   },
   "outputs": [],
   "source": [
    "# Creamos un nuevo diccionario\n",
    "resultado_dic = {}\n",
    "\n",
    "# Copiamos los resultados\n",
    "for element in lista:\n",
    "    resultado_dic[str(element.a.get_text())] = element.a[\"href\"]"
   ]
  },
  {
   "cell_type": "code",
   "execution_count": 116,
   "metadata": {
    "collapsed": false
   },
   "outputs": [
    {
     "data": {
      "text/html": [
       "<div>\n",
       "<table border=\"1\" class=\"dataframe\">\n",
       "  <thead>\n",
       "    <tr style=\"text-align: right;\">\n",
       "      <th></th>\n",
       "      <th>0</th>\n",
       "    </tr>\n",
       "  </thead>\n",
       "  <tbody>\n",
       "    <tr>\n",
       "      <th>The LEGO Christmas Ornaments Book</th>\n",
       "      <td>https://www.nostarch.com/legochristmas</td>\n",
       "    </tr>\n",
       "    <tr>\n",
       "      <th>The CS Detective</th>\n",
       "      <td>/searchtale</td>\n",
       "    </tr>\n",
       "    <tr>\n",
       "      <th>The Official ScratchJr Book</th>\n",
       "      <td>https://www.nostarch.com/scratchjr</td>\n",
       "    </tr>\n",
       "    <tr>\n",
       "      <th>The Manga Guide to Physiology</th>\n",
       "      <td>https://www.nostarch.com/physiology</td>\n",
       "    </tr>\n",
       "    <tr>\n",
       "      <th>The LEGO Power Functions Idea Book, Vol. 1</th>\n",
       "      <td>https://www.nostarch.com/powerfunctions1</td>\n",
       "    </tr>\n",
       "  </tbody>\n",
       "</table>\n",
       "</div>"
      ],
      "text/plain": [
       "                                                                                    0\n",
       "The LEGO Christmas Ornaments Book              https://www.nostarch.com/legochristmas\n",
       "The CS Detective                                                          /searchtale\n",
       "The Official ScratchJr Book                        https://www.nostarch.com/scratchjr\n",
       "The Manga Guide to Physiology                     https://www.nostarch.com/physiology\n",
       " The LEGO Power Functions Idea Book, Vol. 1  https://www.nostarch.com/powerfunctions1"
      ]
     },
     "execution_count": 116,
     "metadata": {},
     "output_type": "execute_result"
    }
   ],
   "source": [
    "# Creamos un nuevo DataFrame\n",
    "resutado_dataframe = pandas.DataFrame.from_dict(resultado_dic, orient='index')\n",
    "resutado_dataframe.head()"
   ]
  },
  {
   "cell_type": "code",
   "execution_count": 117,
   "metadata": {
    "collapsed": false
   },
   "outputs": [
    {
     "data": {
      "text/html": [
       "<div>\n",
       "<table border=\"1\" class=\"dataframe\">\n",
       "  <thead>\n",
       "    <tr style=\"text-align: right;\">\n",
       "      <th></th>\n",
       "      <th>URL</th>\n",
       "    </tr>\n",
       "  </thead>\n",
       "  <tbody>\n",
       "    <tr>\n",
       "      <th>The LEGO Christmas Ornaments Book</th>\n",
       "      <td>https://www.nostarch.com/legochristmas</td>\n",
       "    </tr>\n",
       "    <tr>\n",
       "      <th>The CS Detective</th>\n",
       "      <td>/searchtale</td>\n",
       "    </tr>\n",
       "    <tr>\n",
       "      <th>The Official ScratchJr Book</th>\n",
       "      <td>https://www.nostarch.com/scratchjr</td>\n",
       "    </tr>\n",
       "    <tr>\n",
       "      <th>The Manga Guide to Physiology</th>\n",
       "      <td>https://www.nostarch.com/physiology</td>\n",
       "    </tr>\n",
       "    <tr>\n",
       "      <th>The LEGO Power Functions Idea Book, Vol. 1</th>\n",
       "      <td>https://www.nostarch.com/powerfunctions1</td>\n",
       "    </tr>\n",
       "  </tbody>\n",
       "</table>\n",
       "</div>"
      ],
      "text/plain": [
       "                                                                                  URL\n",
       "The LEGO Christmas Ornaments Book              https://www.nostarch.com/legochristmas\n",
       "The CS Detective                                                          /searchtale\n",
       "The Official ScratchJr Book                        https://www.nostarch.com/scratchjr\n",
       "The Manga Guide to Physiology                     https://www.nostarch.com/physiology\n",
       " The LEGO Power Functions Idea Book, Vol. 1  https://www.nostarch.com/powerfunctions1"
      ]
     },
     "execution_count": 117,
     "metadata": {},
     "output_type": "execute_result"
    }
   ],
   "source": [
    "# Renombramos las columnas\n",
    "resutado_dataframe.rename(columns={0: 'URL'}, inplace=True)\n",
    "\n",
    "resutado_dataframe.head()"
   ]
  },
  {
   "cell_type": "code",
   "execution_count": 118,
   "metadata": {
    "collapsed": true
   },
   "outputs": [],
   "source": [
    "# Exportar a CSV\n",
    "\n",
    "resutado_dataframe.to_csv('data/nostarch_lista.csv')"
   ]
  },
  {
   "cell_type": "markdown",
   "metadata": {},
   "source": [
    "## Selección por herencia DOM"
   ]
  },
  {
   "cell_type": "code",
   "execution_count": 4,
   "metadata": {
    "collapsed": false
   },
   "outputs": [],
   "source": [
    "URL = 'https://news.ycombinator.com/news'\n",
    "URL = BeautifulSoup(requests.get(URL).text, \"lxml\")"
   ]
  },
  {
   "cell_type": "markdown",
   "metadata": {},
   "source": [
    "### Herencia DOM: tr > td  > a\n",
    "\n",
    "### Recuerdan REGEX?"
   ]
  },
  {
   "cell_type": "code",
   "execution_count": 6,
   "metadata": {
    "collapsed": false
   },
   "outputs": [],
   "source": [
    "a_list = URL.select('tr > td  > a[href*=\".\"]')"
   ]
  },
  {
   "cell_type": "markdown",
   "metadata": {},
   "source": [
    "## Ejercicios\n",
    "\n",
    "- Image Site Downloader\n",
    "- Link Verification\n"
   ]
  },
  {
   "cell_type": "markdown",
   "metadata": {},
   "source": [
    "## RIGS / [mirefaccion.com.mx](https://www.mirefaccion.com.mx/)\n",
    "\n",
    "<img src=\"img/curso_rigs.jpg\"/>"
   ]
  },
  {
   "cell_type": "markdown",
   "metadata": {},
   "source": [
    "# Pattern\n",
    "\n",
    "Web mining module for Python, with tools for scraping, natural language processing, machine learning, network analysis and visualization. http://www.clips.ua.ac.be/pages/pattern "
   ]
  },
  {
   "cell_type": "code",
   "execution_count": null,
   "metadata": {
    "collapsed": true
   },
   "outputs": [],
   "source": []
  }
 ],
 "metadata": {
  "kernelspec": {
   "display_name": "Python 3",
   "language": "python",
   "name": "python3"
  },
  "language_info": {
   "codemirror_mode": {
    "name": "ipython",
    "version": 3
   },
   "file_extension": ".py",
   "mimetype": "text/x-python",
   "name": "python",
   "nbconvert_exporter": "python",
   "pygments_lexer": "ipython3",
   "version": "3.5.1"
  }
 },
 "nbformat": 4,
 "nbformat_minor": 0
}
